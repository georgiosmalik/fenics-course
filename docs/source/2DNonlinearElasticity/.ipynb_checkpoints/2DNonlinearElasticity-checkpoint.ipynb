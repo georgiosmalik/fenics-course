{
 "cells": [
  {
   "cell_type": "markdown",
   "metadata": {},
   "source": [
    "# 2D Non-Linear Elasticity"
   ]
  },
  {
   "cell_type": "markdown",
   "metadata": {},
   "source": [
    "> TODO list: Obrázek dvou brambor. Deformace a posunuti. Vztah mezi delkami, plochami a objemy. Vztah mezi Cauchyho a 1. P-K. Rovnice s 1. P-K tenzorem, znacen P."
   ]
  },
  {
   "cell_type": "markdown",
   "metadata": {},
   "source": [
    "Obrazek.\n",
    "\\begin{equation}\n",
    "\\mathbf{y}(\\mathbf{X}):=\\mathbf{X} + \\mathbf{u}(\\mathbf{X})\n",
    "\\end{equation}\n",
    "\\begin{equation}\n",
    "\\mathbf{F}(\\mathbf{X}):=\\mathrm{Grad}\\,\\mathbf{y}(\\mathbf{X})\n",
    "\\end{equation}\n",
    "\\begin{equation}\n",
    "\\mathrm{d}l = \\mathbf{F}\\,\\mathrm{d}L\n",
    "\\end{equation}\n",
    "\\begin{equation}\n",
    "\\mathrm{d}s = (\\mathrm{det}\\,\\mathbf{F})\\mathbf{F}^{-\\top}\\mathrm{d}S\n",
    "\\end{equation}\n",
    "\\begin{equation}\n",
    "\\mathrm{d}v = \\mathrm{det}\\mathbf{F}\\,\\mathrm{d}V\n",
    "\\end{equation}\n",
    "\\begin{equation}\n",
    "\\mathbf{n} = \\frac{(\\mathrm{det}\\,\\mathbf{F})\\mathbf{F}^{-\\top}\\mathbf{N}}{|(\\mathrm{det}\\,\\mathbf{F})\\mathbf{F}^{-\\top}\\mathbf{N}|}\n",
    "\\end{equation}\n",
    "\\begin{equation}\n",
    "\\mathbf{P} = (\\mathrm{det}\\,\\mathbf{F})\\,{\\boldsymbol \\sigma}\\,\\mathbf{F}^{-\\top}\n",
    "\\end{equation}\n",
    "\\begin{equation}\n",
    "\\mathbf{B} = (\\mathrm{det}\\,\\mathbf{F})\\mathbf{b}\n",
    "\\end{equation}\n",
    "\\begin{equation}\n",
    "\\mathbf{G} = |(\\mathrm{det}\\,\\mathbf{F})\\mathbf{F}^{-\\top}\\mathbf{N}|\\,\\mathbf{g}\n",
    "\\end{equation}"
   ]
  },
  {
   "cell_type": "markdown",
   "metadata": {},
   "source": [
    "\\begin{equation}\n",
    "\\mathrm{Div}\\left[(\\mathrm{det}\\,\\mathbf{F})\\mathbf{F}^{-\\top} \\right] = \\mathbf{0}\n",
    "\\end{equation}\n",
    "\\begin{equation}\n",
    "\\mathrm{div}{\\boldsymbol \\sigma} = \\mathrm{det}\\mathbf{F}\\,\\mathrm{Div}\\,\\mathbf{P}\n",
    "\\end{equation}\n",
    "\n",
    "\\begin{equation}\n",
    "\\mathrm{Div}\\,\\mathbf{P} + \\mathbf{B} = \\mathbf{0}\n",
    "\\end{equation}\n",
    "\\begin{equation}\n",
    "\\mathbf{P}\\cdot\\mathbf{N} = \\mathbf{G}\n",
    "\\end{equation}"
   ]
  },
  {
   "cell_type": "code",
   "execution_count": null,
   "metadata": {},
   "outputs": [],
   "source": []
  },
  {
   "cell_type": "code",
   "execution_count": null,
   "metadata": {},
   "outputs": [],
   "source": []
  }
 ],
 "metadata": {
  "kernelspec": {
   "display_name": "Python 3",
   "language": "python",
   "name": "python3"
  },
  "language_info": {
   "codemirror_mode": {
    "name": "ipython",
    "version": 3
   },
   "file_extension": ".py",
   "mimetype": "text/x-python",
   "name": "python",
   "nbconvert_exporter": "python",
   "pygments_lexer": "ipython3",
   "version": "3.6.9"
  }
 },
 "nbformat": 4,
 "nbformat_minor": 2
}
