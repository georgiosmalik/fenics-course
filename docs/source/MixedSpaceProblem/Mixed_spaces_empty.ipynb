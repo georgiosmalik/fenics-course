{
 "cells": [
  {
   "cell_type": "markdown",
   "metadata": {},
   "source": [
    "# Element volume locking"
   ]
  },
  {
   "cell_type": "markdown",
   "metadata": {},
   "source": [
    "Relationships between $(\\lambda,\\mu)$ and $(E, \\nu)$ are\n",
    "\\begin{equation}\n",
    "\\lambda=\\frac{E\\nu}{(1+\\nu)(1-2\\nu)},\\,\\,\\,\\,\\mu=\\frac{E}{2(1+\\nu)}\n",
    "\\end{equation}\n",
    "\n",
    "Basic formulation introduced above is based on stiffness, but for $\\nu\\rightarrow 0.5$ Young modulus $E\\rightarrow\\infty$ and calculations collapse with reaching $\\nu=0.5$. This singularity introduces the so called volume locking. It can be seen from simple numerical experiment. Suppose rectangle domain holded on bottom and loaded on top edge and suppose almost critical value of Poisson ratio $\\nu=0.4999$. The task is implemented as in *2D_Elasticity* example. The domain response should be symmetrical, but result is ..."
   ]
  },
  {
   "cell_type": "code",
   "execution_count": 2,
   "metadata": {},
   "outputs": [],
   "source": [
    "# Modified 2D_Elasticity example for nu->infty"
   ]
  },
  {
   "cell_type": "markdown",
   "metadata": {},
   "source": [
    "To recover the correct physical behavior,\n",
    "we switch to mixed variational problem formulation.\n",
    "In the previous example we supposed the stress tensor is\n",
    "\\begin{equation}\n",
    "    \\boldsymbol{\\sigma}=\\lambda\\mathrm{div}(\\mathbf{u})\\mathbf{I} + 2\\mu\\boldsymbol{\\varepsilon}(\\mathbf{u})\n",
    "\\end{equation}\n",
    "and $\\mathbf{u}$ was the unknown field.\n",
    "Here we define $p=-\\lambda\\mathrm{div}\\mathbf{u}$, the hydrostatic pressure, as an additional unknown.\n",
    "Hence the previous strong form\n",
    "\\begin{align*}\n",
    "\t\\text{div} \\boldsymbol{\\sigma} + \\mathbf{b} &= 0 && \\text{in } \\Omega, \\\\\n",
    "\t\\boldsymbol{\\sigma} \\cdot \\mathbf{n} &= \\mathbf{g} && \\text{on } \\Gamma_{\\text{N}}, \\\\\n",
    "\t\\mathbf{u} &= \\bar{\\mathbf{u}} && \\text{on } \\Gamma_{\\text{D}},\n",
    "\\end{align*}\n",
    "is replaced by more equations\n",
    "\\begin{align*}\n",
    "\t- \\nabla p + \\mathrm{div}(2 \\mu \\boldsymbol{\\varepsilon}(\\mathbf{u})) + \\mathbf{b} &= 0 && \\text{in } \\Omega, \\\\\n",
    "\t\\mathrm{div}\\mathbf{u} + \\frac{p}{\\lambda} &= 0 && \\text{in } \\Omega, \\\\\n",
    "\tp \\mathbf{n} + 2 \\mu \\boldsymbol{\\varepsilon}(\\mathbf{u}) \\cdot \\mathbf{n} &= \\mathbf{g} && \\text{on } \\Gamma_{\\text{N}}, \\\\\n",
    "\t\\mathbf{u} &= \\bar{\\mathbf{u}} && \\text{on } \\Gamma_{\\text{D}},\n",
    "\\end{align*}\n",
    "Its weak formulation being: find $(\\mathbf{u},p)$ s.t.\n",
    "\\begin{align*}\n",
    "    -\\int_\\Omega p \\text{ div}\\, \\mathbf{v} \\,\\mathrm{d}X\n",
    "    +\n",
    "    \\int_\\Omega 2 \\mu \\boldsymbol{\\varepsilon}(\\mathbf{u}) : \\boldsymbol{\\varepsilon}(\\mathbf{v}) \\,\\mathrm{d}X\n",
    "    &= \\int_\\Omega \\mathbf{b} \\cdot \\mathbf{v} \\,\\mathrm{d}X\n",
    "    + \\int_{\\partial \\Omega} \\mathbf{g} \\cdot \\mathbf{v} \\,\\mathrm{d}S,\n",
    "    \\quad \\forall \\mathbf{v}, \\\\\n",
    "    \\int_\\Omega \\left(\\mathrm{div}\\mathbf{u}+\\frac{p}{\\lambda} \\right) q \\,\\mathrm{d}X\n",
    "    &=\n",
    "    0,\n",
    "    \\quad \\forall q.\n",
    "\\end{align*}\n",
    "It is an example of Hellinger-Reissner mixed formulation\n",
    "and the existence is assured e.g. by the Babuška-Brezi condition."
   ]
  },
  {
   "cell_type": "markdown",
   "metadata": {},
   "source": [
    "### Implementation"
   ]
  },
  {
   "cell_type": "markdown",
   "metadata": {},
   "source": [
    "Since FEniCS requires only one form, we rewrite the system above to a one variational equality\n",
    "\\begin{equation}\n",
    "    -\\int_\\Omega p \\text{ div}\\, \\mathbf{v} \\,\\mathrm{d}X\n",
    "    +\n",
    "    \\int_\\Omega 2 \\mu \\boldsymbol{\\varepsilon}(\\mathbf{u}) : \\boldsymbol{\\varepsilon}(\\mathbf{v}) \\,\\mathrm{d}X\n",
    "    - \\int_\\Omega \\left(\\mathrm{div}\\mathbf{u}+\\frac{p}{\\lambda} \\right) q \\,\\mathrm{d}X\n",
    "    = \\int_\\Omega \\mathbf{b} \\cdot \\mathbf{v} \\,\\mathrm{d}X\n",
    "    + \\int_{\\partial \\Omega} \\mathbf{g} \\cdot \\mathbf{v} \\,\\mathrm{d}S,\n",
    "    \\,\\forall \\mathbf{v},\\,\\forall q.\n",
    "\\end{equation}\n",
    "We have to also choose the discrete subspaces carefully in order to keep the Babuška-Brezi condition valid,\n",
    "even uniformly with respect to the discretization parameter;\n",
    "see the list of suitable pairs of function spaces in [Hughes, T. J. R. - The Finite Element Method (1987), Chapter 4, pp. 201]\n",
    "\n",
    "First of all it is necessary redefine stress function using new variable $p$."
   ]
  },
  {
   "cell_type": "code",
   "execution_count": null,
   "metadata": {},
   "outputs": [],
   "source": []
  },
  {
   "cell_type": "markdown",
   "metadata": {},
   "source": [
    "Definitions of material constants remains the same. It holds also for mesh."
   ]
  },
  {
   "cell_type": "code",
   "execution_count": null,
   "metadata": {},
   "outputs": [],
   "source": []
  },
  {
   "cell_type": "markdown",
   "metadata": {},
   "source": [
    "The crucial aspect of mixed formulation id definition of Function space. The space for displacements is vector-valued meanwhile function space for pressure variable is scalar. In addition, it is appropriate to select different degrees of space for each variable to maintain Babuška–Brezzi inf-sup condition. To implement such space in FEniCS it is necessary define individual element objects:"
   ]
  },
  {
   "cell_type": "code",
   "execution_count": null,
   "metadata": {},
   "outputs": [],
   "source": []
  },
  {
   "cell_type": "markdown",
   "metadata": {},
   "source": [
    "where first stands for second-order polynomial vector-valued element and second stands for first-order polynomial scalar element. Next step is definition of mixed element by calling *MixedElement* constructor with array of individual elements."
   ]
  },
  {
   "cell_type": "code",
   "execution_count": null,
   "metadata": {},
   "outputs": [],
   "source": []
  },
  {
   "cell_type": "markdown",
   "metadata": {},
   "source": [
    "And finally mixed function space is created by *FunctionSpace* object with mixed element as argument."
   ]
  },
  {
   "cell_type": "code",
   "execution_count": null,
   "metadata": {},
   "outputs": [],
   "source": []
  },
  {
   "cell_type": "markdown",
   "metadata": {},
   "source": [
    "Dirichlet boundary condition are defined by classic way. In this case the space *V* repsesents whole mixed function space, instead of *V.sub(0)* represents vector-valued displacement subspace and *V.sub(1)* represents scalar space for pressure."
   ]
  },
  {
   "cell_type": "code",
   "execution_count": null,
   "metadata": {},
   "outputs": [],
   "source": []
  },
  {
   "cell_type": "markdown",
   "metadata": {},
   "source": [
    "It is also possible to access to individual subspaces of subspace. For example following *V.sub(0).sub(1)* is space for $y$-displacements."
   ]
  },
  {
   "cell_type": "code",
   "execution_count": null,
   "metadata": {},
   "outputs": [],
   "source": []
  },
  {
   "cell_type": "markdown",
   "metadata": {},
   "source": [
    "Calling *fe.TestFunction(V)* in mixed formulation returns test function on whole mixed space. It is possible to extract test functions from individual spaces by function *fe.split()*, but simpler solution is calling *fe.TestFunctions(V)* instead of *fe.TestFunction(V)*. It returns splitted functions of individual spaces. The same holds for trial functions.\n",
    "\n",
    "The weak form presented below is for nearly incompressible continuum. For full incompressibility, it is neccessary to delete $p/\\lambda$ member."
   ]
  },
  {
   "cell_type": "code",
   "execution_count": null,
   "metadata": {},
   "outputs": [],
   "source": []
  },
  {
   "cell_type": "markdown",
   "metadata": {},
   "source": [
    "Solution is obtained by classic way."
   ]
  },
  {
   "cell_type": "code",
   "execution_count": null,
   "metadata": {},
   "outputs": [],
   "source": []
  },
  {
   "cell_type": "markdown",
   "metadata": {},
   "source": [
    "To postprocess solution, it is possible access to subspaces by *.sub(n)*."
   ]
  },
  {
   "cell_type": "code",
   "execution_count": null,
   "metadata": {},
   "outputs": [],
   "source": []
  },
  {
   "cell_type": "markdown",
   "metadata": {},
   "source": [
    "### Subspace"
   ]
  },
  {
   "cell_type": "markdown",
   "metadata": {},
   "source": [
    "In this example solution is saved in *sol* variable as mixed function. To acces individual subfunctions, FEniCS provides function *split*. There exists two different version of this function. The first is called via FEniCS package function as"
   ]
  },
  {
   "cell_type": "code",
   "execution_count": null,
   "metadata": {},
   "outputs": [],
   "source": []
  },
  {
   "cell_type": "markdown",
   "metadata": {},
   "source": [
    "It returns some kind of link on subspace. It is usually sufficient for plotting for example, but may not be sufficient for some operations with subfunctions. Therefore FEniCS provides another split function."
   ]
  },
  {
   "cell_type": "code",
   "execution_count": null,
   "metadata": {},
   "outputs": [],
   "source": []
  },
  {
   "cell_type": "markdown",
   "metadata": {},
   "source": [
    "It returns two subfunctions of type *Function*. "
   ]
  },
  {
   "cell_type": "markdown",
   "metadata": {},
   "source": [
    "### Code"
   ]
  },
  {
   "cell_type": "code",
   "execution_count": null,
   "metadata": {},
   "outputs": [],
   "source": []
  }
 ],
 "metadata": {
  "kernelspec": {
   "display_name": "Python 3",
   "language": "python",
   "name": "python3"
  },
  "language_info": {
   "codemirror_mode": {
    "name": "ipython",
    "version": 3
   },
   "file_extension": ".py",
   "mimetype": "text/x-python",
   "name": "python",
   "nbconvert_exporter": "python",
   "pygments_lexer": "ipython3",
   "version": "3.6.9"
  }
 },
 "nbformat": 4,
 "nbformat_minor": 2
}
