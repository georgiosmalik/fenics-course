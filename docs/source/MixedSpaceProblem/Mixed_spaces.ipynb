{
 "cells": [
  {
   "cell_type": "markdown",
   "metadata": {},
   "source": [
    "# Element volume locking"
   ]
  },
  {
   "cell_type": "markdown",
   "metadata": {},
   "source": [
    "Relationships between $(\\lambda,\\mu)$ and $(E, \\nu)$ are\n",
    "\\begin{equation}\n",
    "\\lambda=\\frac{E\\nu}{(1+\\nu)(1-2\\nu)},\\,\\,\\,\\,\\mu=\\frac{E}{2(1+\\nu)}\n",
    "\\end{equation}\n",
    "\n",
    "Basic formulation introduced above is based on stiffness, but for $\\nu\\rightarrow 0.5$ Young modulus $E\\rightarrow\\infty$ and calculations collapse with reaching $\\nu=0.5$. This singularity introduces the so called volume locking. It can be seen from simple numerical experiment. Suppose rectangle domain holded on bottom and loaded on top edge and suppose almost critical value of Poisson ratio $\\nu=0.4999$. The task is implemented as in *2D_Elasticity* example. The domain response should be symmetrical, but result is ..."
   ]
  },
  {
   "cell_type": "code",
   "execution_count": 2,
   "metadata": {},
   "outputs": [
    {
     "data": {
      "image/png": "[encoded data removed]",
      "text/plain": [
       "<matplotlib.figure.Figure at 0x7ff31d9e3860>"
      ]
     },
     "metadata": {
      "needs_background": "light"
     },
     "output_type": "display_data"
    }
   ],
   "source": [
    "import fenics as fe\n",
    "import matplotlib.pyplot as plt\n",
    "import numpy as np\n",
    "\n",
    "\n",
    "# --------------------\n",
    "# Functions and classes\n",
    "# --------------------\n",
    "def bottom(x, on_boundary):\n",
    "    return (on_boundary and fe.near(x[1], 0.0))\n",
    "\n",
    "\n",
    "# Strain function\n",
    "def epsilon(u):\n",
    "    return 0.5*(fe.nabla_grad(u) + fe.nabla_grad(u).T)\n",
    "\n",
    "\n",
    "# Stress function\n",
    "def sigma(u):\n",
    "    return lmbda*fe.div(u)*fe.Identity(2) + 2*mu*epsilon(u)\n",
    "\n",
    "\n",
    "# --------------------\n",
    "# Parameters\n",
    "# --------------------\n",
    "E = 70.0e6  # Youngs modulus\n",
    "nu = 0.4999  # Poissons ratio\n",
    "lmbda, mu = E*nu/(1 + nu)/(1 - 2*nu), E/2/(1 + nu)  # Lame's constant\n",
    "\n",
    "l_x, l_y = 5.0, 5.0  # Domain dimensions\n",
    "n_x, n_y = 20, 20  # Number of elements\n",
    "\n",
    "# Load\n",
    "f_int = -10000000.0\n",
    "\n",
    "# --------------------\n",
    "# Geometry\n",
    "# --------------------\n",
    "mesh = fe.RectangleMesh(fe.Point(0.0, 0.0), fe.Point(l_x, l_y), n_x, n_y)\n",
    "\n",
    "# Definition of Neumann condition domain\n",
    "boundaries = fe.MeshFunction(\"size_t\", mesh, mesh.topology().dim() - 1)\n",
    "boundaries.set_all(0)\n",
    "\n",
    "top = fe.AutoSubDomain(lambda x: fe.near(x[1], 5.0))\n",
    "\n",
    "top.mark(boundaries, 1)\n",
    "ds = fe.ds(subdomain_data=boundaries)\n",
    "\n",
    "# --------------------\n",
    "# Function spaces\n",
    "# --------------------\n",
    "V = fe.VectorFunctionSpace(mesh, \"CG\", 1)\n",
    "u_tr = fe.TrialFunction(V)\n",
    "u_test = fe.TestFunction(V)\n",
    "f = fe.Constant((0.0, f_int))\n",
    "\n",
    "# --------------------\n",
    "# Boundary conditions\n",
    "# --------------------\n",
    "bc = fe.DirichletBC(V, fe.Constant((0.0, 0.0)), bottom)\n",
    "\n",
    "# --------------------\n",
    "# Weak form\n",
    "# --------------------\n",
    "a = fe.inner(sigma(u_tr), epsilon(u_test))*fe.dx\n",
    "l = fe.inner(f, u_test)*ds(1)\n",
    "\n",
    "# --------------------\n",
    "# Solver\n",
    "# --------------------\n",
    "u = fe.Function(V)\n",
    "fe.solve(a == l, u, bc)\n",
    "\n",
    "# --------------------\n",
    "# Post-process\n",
    "# --------------------\n",
    "fe.plot(u, mode=\"displacement\")\n",
    "plt.show()"
   ]
  },
  {
   "cell_type": "markdown",
   "metadata": {},
   "source": [
    "To recover correct physical behavior, we can reformulate it to mixed variational problem. In previous example we suppose that stress tensor is defined as\n",
    "\\begin{equation}\n",
    "\\boldsymbol{\\sigma}=\\lambda\\mathrm{div}(\\mathbf{u})\\mathbf{I} + 2\\mu\\boldsymbol{\\varepsilon}\n",
    "\\end{equation}\n",
    "with unknown field $\\mathbf{u}$. However we can define $p=-\\lambda\\mathrm{div}\\mathbf{u}$ as hydrostatic pressure and set it as unknown field.\n",
    "\n",
    "Previous strong form\n",
    "\\begin{equation}\n",
    "\\mathrm{div}\\boldsymbol{\\sigma}(\\mathbf{u}) + \\mathbf{f} = \\mathbf{0},\n",
    "\\end{equation}\n",
    "is replaced by two equation\n",
    "\\begin{equation}\n",
    "\\mathrm{div}\\boldsymbol{\\sigma}(\\mathbf{u}, p) + \\mathbf{f} = \\mathbf{0},\n",
    "\\end{equation}\n",
    "\\begin{equation}\n",
    "\\mathrm{div}\\mathbf{u} + \\frac{p}{\\lambda}=0\n",
    "\\end{equation}\n",
    "with new definition of stress\n",
    "\\begin{equation}\n",
    "\\boldsymbol{\\sigma}(\\mathbf{u}, p)=p\\mathbf{I} + 2\\mu\\boldsymbol{\\varepsilon}\n",
    "\\end{equation}\n",
    "\n",
    "It leads to weak form:\n",
    "\\begin{equation}\n",
    "\\int_\\Omega \\nabla_s \\mathbf{v}:\\boldsymbol{\\sigma}\\,\\mathrm{d}\\Omega - \\int_\\Omega q(\\mathrm{div}\\mathbf{u}+p/\\lambda)\\,\\mathrm{d\\Omega} = \\mathcal{F}_\\mathrm{ext},\\,\\forall \\mathbf{u},\\,\\forall q\n",
    "\\end{equation}\n",
    "where $\\mathcal{F}_\\mathrm{ext}$ is weak form of external forces. It is example of Hellinger reissner mixed formulation."
   ]
  },
  {
   "cell_type": "markdown",
   "metadata": {},
   "source": [
    "### Implementation"
   ]
  },
  {
   "cell_type": "markdown",
   "metadata": {},
   "source": [
    "First of all it is necessary redefine stress function using new variable $p$."
   ]
  },
  {
   "cell_type": "code",
   "execution_count": 13,
   "metadata": {},
   "outputs": [],
   "source": [
    "import fenics as fe\n",
    "import matplotlib.pyplot as plt\n",
    "\n",
    "# --------------------\n",
    "# Functions and classes\n",
    "# --------------------\n",
    "def bottom(x, on_boundary):\n",
    "    return (on_boundary and fe.near(x[1], 0.0))\n",
    "\n",
    "\n",
    "# Strain function\n",
    "def epsilon(u):\n",
    "    return 0.5*(fe.nabla_grad(u) + fe.nabla_grad(u).T)\n",
    "\n",
    "\n",
    "# Stress function\n",
    "def sigma(u, p):\n",
    "    return p*fe.Identity(2) + 2*mu*epsilon(u)\n"
   ]
  },
  {
   "cell_type": "markdown",
   "metadata": {},
   "source": [
    "Definitions of material constants remains the same. It holds also for mesh."
   ]
  },
  {
   "cell_type": "code",
   "execution_count": 14,
   "metadata": {},
   "outputs": [],
   "source": [
    "# --------------------\n",
    "# Parameters\n",
    "# --------------------\n",
    "E = 70.0e6  # Youngs modulus\n",
    "nu = 0.4999  # Poissons ratio\n",
    "\n",
    "l_x, l_y = 5.0, 5.0  # Domain dimensions\n",
    "n_x, n_y = 20, 20  # Number of elements\n",
    "\n",
    "# Load\n",
    "f_int = -10000000.0\n",
    "f = fe.Constant((0.0, f_int))\n",
    "\n",
    "# --------------------\n",
    "# Geometry\n",
    "# --------------------\n",
    "mesh = fe.RectangleMesh(fe.Point(0.0, 0.0), fe.Point(l_x, l_y), n_x, n_y)\n",
    "\n",
    "# Definition of Neumann condition domain\n",
    "boundaries = fe.MeshFunction(\"size_t\", mesh, mesh.topology().dim() - 1)\n",
    "boundaries.set_all(0)\n",
    "\n",
    "top = fe.AutoSubDomain(lambda x: fe.near(x[1], l_y))\n",
    "\n",
    "top.mark(boundaries, 1)\n",
    "ds = fe.ds(subdomain_data=boundaries)"
   ]
  },
  {
   "cell_type": "markdown",
   "metadata": {},
   "source": [
    "The crucial aspect of mixed formulation id definition of Function space. The space for displacements is vector-valued meanwhile function space for pressure variable is scalar. In addition, it is appropriate to select different degrees of space for each variable to maintain Babuška–Brezzi inf-sup condition. To implement such space in FEniCS it is necessary define individual element objects:"
   ]
  },
  {
   "cell_type": "code",
   "execution_count": 15,
   "metadata": {},
   "outputs": [],
   "source": [
    "P1 = fe.VectorElement('P', fe.triangle, 2)\n",
    "P2 = fe.FiniteElement('P', fe.triangle, 1)"
   ]
  },
  {
   "cell_type": "markdown",
   "metadata": {},
   "source": [
    "where first stands for second-order polynomial vector-valued element and second stands for first-order polynomial scalar element. Next step is definition of mixed element by calling *MixedElement* constructor with array of individual elements."
   ]
  },
  {
   "cell_type": "code",
   "execution_count": 16,
   "metadata": {},
   "outputs": [],
   "source": [
    "element = fe.MixedElement([P1, P2])"
   ]
  },
  {
   "cell_type": "markdown",
   "metadata": {},
   "source": [
    "And finally mixed function space is created by *FunctionSpace* object with mixed element as argument."
   ]
  },
  {
   "cell_type": "code",
   "execution_count": 17,
   "metadata": {},
   "outputs": [],
   "source": [
    "V = fe.FunctionSpace(mesh, element)"
   ]
  },
  {
   "cell_type": "markdown",
   "metadata": {},
   "source": [
    "Dirichlet boundary condition are defined by classic way. In this case the space *V* repsesents whole mixed function space, instead of *V.sub(0)* represents vector-valued displacement subspace and *V.sub(1)* represents scalar space for pressure."
   ]
  },
  {
   "cell_type": "code",
   "execution_count": 27,
   "metadata": {},
   "outputs": [],
   "source": [
    "# --------------------\n",
    "# Boundary conditions\n",
    "# --------------------\n",
    "bc = fe.DirichletBC(V.sub(0), fe.Constant((0.0, 0.0)), bottom)"
   ]
  },
  {
   "cell_type": "markdown",
   "metadata": {},
   "source": [
    "It is also possible to access to individual subspaces of subspace. For example following *V.sub(0).sub(1)* is space for $y$-displacements."
   ]
  },
  {
   "cell_type": "code",
   "execution_count": 20,
   "metadata": {},
   "outputs": [],
   "source": [
    "bc = fe.DirichletBC(V.sub(0).sub(1), 0.0, bottom)"
   ]
  },
  {
   "cell_type": "markdown",
   "metadata": {},
   "source": [
    "Calling *fe.TestFunction(V)* in mixed formulation returns test function on whole mixed space. It is possible to extract test functions from individual spaces by function *fe.split()*, but simpler solution is calling *fe.TestFunctions(V)* instead of *fe.TestFunction(V)*. It returns splitted functions of individual spaces. The same holds for trial functions.\n",
    "\n",
    "The weak form presented below is for nearly incompressible continuum. For full incompressibility, it is neccessary to delete $p/\\lambda$ member."
   ]
  },
  {
   "cell_type": "code",
   "execution_count": 28,
   "metadata": {},
   "outputs": [],
   "source": [
    "# --------------------\n",
    "# Weak form\n",
    "# --------------------\n",
    "u_test, p_test = fe.TestFunctions(V)\n",
    "u_tr, p_tr = fe.TrialFunctions(V)\n",
    "\n",
    "a = fe.inner(epsilon(u_test), sigma(u_tr, p_tr))*fe.dx\n",
    "a += -p_test*(fe.div(u_tr) + p_tr/lmbda)*fe.dx\n",
    "L = fe.inner(f, u_test)*ds(1)"
   ]
  },
  {
   "cell_type": "markdown",
   "metadata": {},
   "source": [
    "Solution is obtained by classic way."
   ]
  },
  {
   "cell_type": "code",
   "execution_count": 31,
   "metadata": {},
   "outputs": [],
   "source": [
    "# --------------------\n",
    "# Solver\n",
    "# --------------------\n",
    "sol = fe.Function(V)\n",
    "fe.solve(a == L, sol, bc)"
   ]
  },
  {
   "cell_type": "markdown",
   "metadata": {},
   "source": [
    "To postprocess solution, it is possible access to subspaces by *.sub(n)*."
   ]
  },
  {
   "cell_type": "code",
   "execution_count": 32,
   "metadata": {},
   "outputs": [
    {
     "data": {
      "image/png": "[encoded data removed]",
      "text/plain": [
       "<matplotlib.figure.Figure at 0x7ff318bdda90>"
      ]
     },
     "metadata": {
      "needs_background": "light"
     },
     "output_type": "display_data"
    },
    {
     "data": {
      "image/png": "[encoded data removed]",
      "text/plain": [
       "<matplotlib.figure.Figure at 0x7ff318b574e0>"
      ]
     },
     "metadata": {
      "needs_background": "light"
     },
     "output_type": "display_data"
    }
   ],
   "source": [
    "# --------------------\n",
    "# Post-process\n",
    "# --------------------\n",
    "# Plot solution\n",
    "fe.plot(sol.sub(0), mode=\"displacement\")\n",
    "plt.show()\n",
    "plot = fe.plot(sol.sub(1))\n",
    "plt.colorbar(plot)\n",
    "plt.show()"
   ]
  },
  {
   "cell_type": "markdown",
   "metadata": {},
   "source": [
    "### Subspace"
   ]
  },
  {
   "cell_type": "markdown",
   "metadata": {},
   "source": [
    "In this example solution is saved in *sol* variable as mixed function. To acces individual subfunctions, FEniCS provides function *split*. There exists two different version of this function. The first is called via FEniCS package function as"
   ]
  },
  {
   "cell_type": "code",
   "execution_count": 38,
   "metadata": {},
   "outputs": [],
   "source": [
    "u, p = fe.split(X)"
   ]
  },
  {
   "cell_type": "markdown",
   "metadata": {},
   "source": [
    "It returns some kind of link on subspace. It is usually sufficient for plotting for example, but may not be sufficient for some operations with subfunctions. Therefore FEniCS provides another split function."
   ]
  },
  {
   "cell_type": "code",
   "execution_count": 42,
   "metadata": {},
   "outputs": [],
   "source": [
    "u, p = X.split()"
   ]
  },
  {
   "cell_type": "markdown",
   "metadata": {},
   "source": [
    "It returns two subfunctions of type *Function*. "
   ]
  },
  {
   "cell_type": "markdown",
   "metadata": {},
   "source": [
    "### Code"
   ]
  },
  {
   "cell_type": "code",
   "execution_count": 33,
   "metadata": {},
   "outputs": [
    {
     "data": {
      "image/png": "[encoded data removed]",
      "text/plain": [
       "<matplotlib.figure.Figure at 0x7ff318f213c8>"
      ]
     },
     "metadata": {
      "needs_background": "light"
     },
     "output_type": "display_data"
    },
    {
     "data": {
      "image/png": "[encoded data removed]",
      "text/plain": [
       "<matplotlib.figure.Figure at 0x7ff318ff2160>"
      ]
     },
     "metadata": {
      "needs_background": "light"
     },
     "output_type": "display_data"
    }
   ],
   "source": [
    "import fenics as fe\n",
    "import matplotlib.pyplot as plt\n",
    "\n",
    "# --------------------\n",
    "# Functions and classes\n",
    "# --------------------\n",
    "def bottom(x, on_boundary):\n",
    "    return (on_boundary and fe.near(x[1], 0.0))\n",
    "\n",
    "\n",
    "# Strain function\n",
    "def epsilon(u):\n",
    "    return 0.5*(fe.nabla_grad(u) + fe.nabla_grad(u).T)\n",
    "\n",
    "\n",
    "# Stress function\n",
    "def sigma(u, p):\n",
    "    return p*fe.Identity(2) + 2*mu*epsilon(u)\n",
    "\n",
    "\n",
    "# --------------------\n",
    "# Parameters\n",
    "# --------------------\n",
    "E = 70.0e6  # Youngs modulus\n",
    "nu = 0.4999  # Poissons ratio\n",
    "\n",
    "l_x, l_y = 5.0, 5.0  # Domain dimensions\n",
    "n_x, n_y = 20, 20  # Number of elements\n",
    "\n",
    "# Load\n",
    "f_int = -10000000.0\n",
    "\n",
    "# --------------------\n",
    "# Geometry\n",
    "# --------------------\n",
    "mesh = fe.RectangleMesh(fe.Point(0.0, 0.0), fe.Point(l_x, l_y), n_x, n_y)\n",
    "\n",
    "# Definition of Neumann condition domain\n",
    "boundaries = fe.MeshFunction(\"size_t\", mesh, mesh.topology().dim() - 1)\n",
    "boundaries.set_all(0)\n",
    "\n",
    "top = fe.AutoSubDomain(lambda x: fe.near(x[1], l_y))\n",
    "\n",
    "top.mark(boundaries, 1)\n",
    "ds = fe.ds(subdomain_data=boundaries)\n",
    "\n",
    "# --------------------\n",
    "# Function spaces\n",
    "# --------------------\n",
    "P1 = fe.VectorElement('P', fe.triangle, 2)\n",
    "P2 = fe.FiniteElement('P', fe.triangle, 1)\n",
    "element = fe.MixedElement([P1, P2])\n",
    "V = fe.FunctionSpace(mesh, element)\n",
    "f = fe.Constant((0.0, f_int))\n",
    "\n",
    "# --------------------\n",
    "# Boundary conditions\n",
    "# --------------------\n",
    "bc = fe.DirichletBC(V.sub(0), fe.Constant((0.0, 0.0)), bottom)\n",
    "\n",
    "# --------------------\n",
    "# Weak form\n",
    "# --------------------\n",
    "u_test, p_test = fe.TestFunctions(V)\n",
    "u_tr, p_tr = fe.TrialFunctions(V)\n",
    "\n",
    "a = fe.inner(epsilon(u_test), sigma(u_tr, p_tr))*fe.dx\n",
    "a += -p_test*(fe.div(u_tr) + p_tr/lmbda)*fe.dx\n",
    "L = fe.inner(f, u_test)*ds(1)\n",
    "\n",
    "\n",
    "# --------------------\n",
    "# Solver\n",
    "# --------------------\n",
    "sol = fe.Function(V)\n",
    "fe.solve(a == L, sol, bc)\n",
    "\n",
    "# --------------------\n",
    "# Post-process\n",
    "# --------------------\n",
    "# Plot solution\n",
    "fe.plot(sol.sub(0), mode=\"displacement\")\n",
    "plt.show()\n",
    "plot = fe.plot(sol.sub(1))\n",
    "plt.colorbar(plot)\n",
    "plt.show()"
   ]
  },
  {
   "cell_type": "markdown",
   "metadata": {},
   "source": [
    "## Mess and old code"
   ]
  },
  {
   "cell_type": "code",
   "execution_count": 10,
   "metadata": {},
   "outputs": [
    {
     "name": "stdout",
     "output_type": "stream",
     "text": [
      "Calling FFC just-in-time (JIT) compiler, this may take some time.\n"
     ]
    },
    {
     "data": {
      "image/png": "[encoded data removed]",
      "text/plain": [
       "<matplotlib.figure.Figure at 0x7f126b67c860>"
      ]
     },
     "metadata": {
      "needs_background": "light"
     },
     "output_type": "display_data"
    },
    {
     "data": {
      "image/png": "[encoded data removed]",
      "text/plain": [
       "<matplotlib.figure.Figure at 0x7f1268cfc5c0>"
      ]
     },
     "metadata": {
      "needs_background": "light"
     },
     "output_type": "display_data"
    }
   ],
   "source": [
    "import fenics as fe\n",
    "import matplotlib.pyplot as plt\n",
    "\n",
    "# --------------------\n",
    "# Functions and classes\n",
    "# --------------------\n",
    "def bottom(x, on_boundary):\n",
    "    return (on_boundary and fe.near(x[1], 0.0))\n",
    "\n",
    "\n",
    "# Strain function\n",
    "def epsilon(u):\n",
    "    return 0.5*(fe.nabla_grad(u) + fe.nabla_grad(u).T)\n",
    "\n",
    "\n",
    "# Stress function\n",
    "def sigma(u):\n",
    "    return lmbda*fe.div(u)*fe.Identity(2) + 2*mu*epsilon(u)\n",
    "\n",
    "\n",
    "# --------------------\n",
    "# Parameters\n",
    "# --------------------\n",
    "E = 70.0e6  # Youngs modulus\n",
    "nu = 0.4999  # Poissons ratio\n",
    "G = E/2.0/(1.0 + nu)  # Shear modulus\n",
    "\n",
    "l_x, l_y = 5.0, 5.0  # Domain dimensions\n",
    "n_x, n_y = 20, 20  # Number of elements\n",
    "\n",
    "# Load\n",
    "f_int = -10000000.0\n",
    "\n",
    "# --------------------\n",
    "# Geometry\n",
    "# --------------------\n",
    "mesh = fe.RectangleMesh(fe.Point(0.0, 0.0), fe.Point(l_x, l_y), n_x, n_y)\n",
    "\n",
    "# Definition of Neumann condition domain\n",
    "boundaries = fe.MeshFunction(\"size_t\", mesh, mesh.topology().dim() - 1)\n",
    "boundaries.set_all(0)\n",
    "\n",
    "top = fe.AutoSubDomain(lambda x: fe.near(x[1], l_y))\n",
    "\n",
    "top.mark(boundaries, 1)\n",
    "ds = fe.ds(subdomain_data=boundaries)\n",
    "\n",
    "# --------------------\n",
    "# Function spaces\n",
    "# --------------------\n",
    "P1 = fe.VectorElement('P', fe.triangle, 2)\n",
    "P2 = fe.FiniteElement('P', fe.triangle, 1)\n",
    "element = fe.MixedElement([P1, P2])\n",
    "V = fe.FunctionSpace(mesh, element)\n",
    "f = fe.Constant((0.0, f_int))\n",
    "\n",
    "# --------------------\n",
    "# Boundary conditions\n",
    "# --------------------\n",
    "bc = fe.DirichletBC(V.sub(0), fe.Constant((0.0, 0.0)), bottom)\n",
    "\n",
    "# --------------------\n",
    "# Weak form\n",
    "# --------------------\n",
    "u_test, p_test = fe.TestFunctions(V)\n",
    "u_tr, p_tr = fe.TrialFunctions(V)\n",
    "X = fe.Function(V)\n",
    "u, p = fe.split(X)\n",
    "\n",
    "a = 2*G*fe.inner(epsilon(u_test), epsilon(u_tr))*fe.dx\n",
    "a += p_test*fe.div(u_tr)*fe.dx\n",
    "a += p_tr*fe.div(u_test)*fe.dx\n",
    "a -= (2*(1-2*nu))/E*p_tr*p_test*fe.dx\n",
    "L = fe.inner(f, u_test)*ds(1)\n",
    "\n",
    "\n",
    "# --------------------\n",
    "# Solver\n",
    "# --------------------\n",
    "sol = fe.Function(V)\n",
    "fe.solve(a == L, sol, bc)\n",
    "\n",
    "# --------------------\n",
    "# Post-process\n",
    "# --------------------\n",
    "# Plot solution\n",
    "fe.plot(sol.sub(0), mode=\"displacement\")\n",
    "plt.show()\n",
    "plot = fe.plot(sol.sub(1))\n",
    "plt.colorbar(plot)\n",
    "plt.show()\n",
    "\n",
    "# # Save solution\n",
    "# file = File(\"plane_strain/plane_strain.pvd\")\n",
    "# file << sol\n"
   ]
  },
  {
   "cell_type": "code",
   "execution_count": null,
   "metadata": {},
   "outputs": [],
   "source": []
  },
  {
   "cell_type": "markdown",
   "metadata": {},
   "source": [
    "To recover correct physical behavior, we can reformulate it to mixed variational problem. In previous example we suppose that stress tensor is defined as\n",
    "\\begin{equation}\n",
    "\\boldsymbol{\\sigma}=\\lambda\\mathrm{div}(\\mathbf{u})\\mathbf{I} + 2\\mu\\boldsymbol{\\varepsilon}\n",
    "\\end{equation}\n",
    "with unknown field $\\mathbf{u}$. However we can define $p=-\\lambda\\mathrm{div}\\mathbf{u}$ as hydrostatic pressure and set it as unknown field.\n",
    "\n",
    "Previous strong form\n",
    "\\begin{equation}\n",
    "\\mathrm{div}\\boldsymbol{\\sigma}(\\mathbf{u}) + \\mathbf{f} = \\mathbf{0},\n",
    "\\end{equation}\n",
    "is replaced by two equation\n",
    "\\begin{equation}\n",
    "\\mathrm{div}\\boldsymbol{\\sigma}(\\mathbf{u}, p) + \\mathbf{f} = \\mathbf{0},\n",
    "\\end{equation}\n",
    "\\begin{equation}\n",
    "\\mathrm{div}\\mathbf{u} + \\frac{p}{\\lambda}=0\n",
    "\\end{equation}\n",
    "with new definition of stress\n",
    "\\begin{equation}\n",
    "\\boldsymbol{\\sigma}(\\mathbf{u}, p)=p\\mathbf{I} + 2\\mu\\boldsymbol{\\varepsilon}\n",
    "\\end{equation}\n",
    "\n",
    "Suppose that elastic energy density is decomposed into volumetric a deviatoric part\n",
    "\\begin{equation}\n",
    "\\frac{1}{2}\\boldsymbol{\\varepsilon}:\\mathbf{D}:\\boldsymbol{\\varepsilon}=\\frac{1}{2}K\\varepsilon_\\mathrm{V}^2 + \\frac{1}{4G}\\mathbf{e}:\\mathbf{e}\n",
    "\\end{equation}\n",
    "and volumetric part can be expressed as function of volumetric pressure $p$:\n",
    "\\begin{equation}\n",
    "\\frac{1}{2}\\boldsymbol{\\varepsilon}:\\mathbf{D}:\\boldsymbol{\\varepsilon}=p\\varepsilon_\\mathrm{V} - \\frac{p^2}{2K} + \\frac{1}{4G}\\mathbf{e}:\\mathbf{e}\n",
    "\\end{equation}\n",
    "and weak form with using $\\varepsilon_\\mathrm{V}=\\mathrm{tr}(\\boldsymbol{\\varepsilon})=\\mathrm{div}(\\mathbf{u})$ is\n",
    "\\begin{equation}\n",
    "\\int_\\Omega \\frac{1}{2G}\\mathbf{e}:\\delta\\mathbf{e}\\,\\mathrm{d}\\Omega + \n",
    "\\int_\\Omega p\\mathrm{div}(\\delta\\mathbf{u})\\,\\mathrm{d}\\Omega + \n",
    "\\int_\\Omega \\delta p\\mathrm{div}(\\mathbf{u}),\\mathrm{d}\\Omega - \n",
    "\\int_\\Omega \\frac{1}{K}p\\delta p\\,\\mathrm{d}\\Omega + {\\mathcal{F}}_\\mathrm{ext}=0, \\forall \\delta\\mathbf{u}, \\delta p\n",
    "\\end{equation}\n",
    "where $\\mathcal{F}_\\mathrm{ext}$ is weak form of external forces. It is example of Hellinger reissner mixed formulation,"
   ]
  },
  {
   "cell_type": "code",
   "execution_count": null,
   "metadata": {},
   "outputs": [],
   "source": []
  }
 ],
 "metadata": {
  "kernelspec": {
   "display_name": "Python 3",
   "language": "python",
   "name": "python3"
  },
  "language_info": {
   "codemirror_mode": {
    "name": "ipython",
    "version": 3
   },
   "file_extension": ".py",
   "mimetype": "text/x-python",
   "name": "python",
   "nbconvert_exporter": "python",
   "pygments_lexer": "ipython3",
   "version": "3.6.9"
  }
 },
 "nbformat": 4,
 "nbformat_minor": 2
}
