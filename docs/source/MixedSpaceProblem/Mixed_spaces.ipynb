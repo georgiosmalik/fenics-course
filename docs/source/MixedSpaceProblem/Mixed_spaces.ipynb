{
 "cells": [
  {
   "cell_type": "markdown",
   "metadata": {},
   "source": [
    "# Element volume locking"
   ]
  },
  {
   "cell_type": "markdown",
   "metadata": {},
   "source": [
    "Relationships between $(\\lambda,\\mu)$ and $(E, \\nu)$ are\n",
    "\\begin{equation}\n",
    "\\lambda=\\frac{E\\nu}{(1+\\nu)(1-2\\nu)},\\,\\,\\,\\,\\mu=\\frac{E}{2(1+\\nu)}\n",
    "\\end{equation}\n",
    "\n",
    "Basic formulation introduced above is based on stiffness, but for $\\nu\\rightarrow 0.5$ Young modulus $E\\rightarrow\\infty$ and calculations collapse with reaching $\\nu=0.5$. This singularity introduces the so called volume locking. It can be seen from simple numerical experiment. Suppose rectangle domain holded on bottom and loaded on top edge and suppose almost critical value of Poisson ratio $\\nu=0.4999$. The task is implemented as in *2D_Elasticity* example. The domain response should be symmetrical, but result is ..."
   ]
  },
  {
   "cell_type": "code",
   "execution_count": 23,
   "metadata": {},
   "outputs": [
    {
     "data": {
      "image/png": "[encoded data removed]",
      "text/plain": [
       "<matplotlib.figure.Figure at 0x7f10efd3f0b8>"
      ]
     },
     "metadata": {
      "needs_background": "light"
     },
     "output_type": "display_data"
    }
   ],
   "source": [
    "import fenics as fe\n",
    "import matplotlib.pyplot as plt\n",
    "import numpy as np\n",
    "\n",
    "\n",
    "# --------------------\n",
    "# Functions and classes\n",
    "# --------------------\n",
    "def bottom(x, on_boundary):\n",
    "    return (on_boundary and fe.near(x[1], 0.0))\n",
    "\n",
    "\n",
    "# Strain function\n",
    "def epsilon(u):\n",
    "    return 0.5*(fe.nabla_grad(u) + fe.nabla_grad(u).T)\n",
    "\n",
    "\n",
    "# Stress function\n",
    "def sigma(u):\n",
    "    return lmbda*fe.div(u)*fe.Identity(2) + 2*mu*epsilon(u)\n",
    "\n",
    "\n",
    "# --------------------\n",
    "# Parameters\n",
    "# --------------------\n",
    "E = 70.0e6  # Youngs modulus\n",
    "nu = 0.4999  # Poissons ratio\n",
    "lmbda, mu = E*nu/(1 + nu)/(1 - 2*nu), E/2/(1 + nu)  # Lame's constant\n",
    "\n",
    "l_x, l_y = 5.0, 5.0  # Domain dimensions\n",
    "n_x, n_y = 20, 20  # Number of elements\n",
    "\n",
    "# Load\n",
    "g_int = -10000000.0\n",
    "\n",
    "# --------------------\n",
    "# Geometry\n",
    "# --------------------\n",
    "mesh = fe.RectangleMesh(fe.Point(0.0, 0.0), fe.Point(l_x, l_y), n_x, n_y)\n",
    "\n",
    "# Definition of Neumann condition domain\n",
    "boundaries = fe.MeshFunction(\"size_t\", mesh, mesh.topology().dim() - 1)\n",
    "boundaries.set_all(0)\n",
    "\n",
    "top = fe.AutoSubDomain(lambda x: fe.near(x[1], 5.0))\n",
    "\n",
    "top.mark(boundaries, 1)\n",
    "ds = fe.ds(subdomain_data=boundaries)\n",
    "\n",
    "# --------------------\n",
    "# Function spaces\n",
    "# --------------------\n",
    "V = fe.VectorFunctionSpace(mesh, \"CG\", 1)\n",
    "u_tr = fe.TrialFunction(V)\n",
    "u_test = fe.TestFunction(V)\n",
    "g = fe.Constant((0.0, f_int))\n",
    "\n",
    "# --------------------\n",
    "# Boundary conditions\n",
    "# --------------------\n",
    "bc = fe.DirichletBC(V, fe.Constant((0.0, 0.0)), bottom)\n",
    "\n",
    "# --------------------\n",
    "# Weak form\n",
    "# --------------------\n",
    "a = fe.inner(sigma(u_tr), epsilon(u_test))*fe.dx\n",
    "l = fe.inner(g, u_test)*ds(1)\n",
    "\n",
    "# --------------------\n",
    "# Solver\n",
    "# --------------------\n",
    "u = fe.Function(V)\n",
    "fe.solve(a == l, u, bc)\n",
    "\n",
    "# --------------------\n",
    "# Post-process\n",
    "# --------------------\n",
    "fe.plot(u, mode=\"displacement\")\n",
    "plt.show()"
   ]
  },
  {
   "cell_type": "markdown",
   "metadata": {},
   "source": [
    "To recover the correct physical behavior,\n",
    "we switch to mixed variational problem formulation.\n",
    "In the previous example we supposed the stress tensor is\n",
    "\\begin{equation}\n",
    "    \\boldsymbol{\\sigma}=\\lambda\\mathrm{div}(\\mathbf{u})\\mathbf{I} + 2\\mu\\boldsymbol{\\varepsilon}(\\mathbf{u})\n",
    "\\end{equation}\n",
    "and $\\mathbf{u}$ was the unknown field.\n",
    "Here we define $p=-\\lambda\\mathrm{div}\\mathbf{u}$, the hydrostatic pressure, as an additional unknown.\n",
    "Hence the previous strong form\n",
    "\\begin{align*}\n",
    "\t\\text{div} \\boldsymbol{\\sigma} + \\mathbf{b} &= 0 && \\text{in } \\Omega, \\\\\n",
    "\t\\boldsymbol{\\sigma} \\cdot \\mathbf{n} &= \\mathbf{g} && \\text{on } \\Gamma_{\\text{N}}, \\\\\n",
    "\t\\mathbf{u} &= \\bar{\\mathbf{u}} && \\text{on } \\Gamma_{\\text{D}},\n",
    "\\end{align*}\n",
    "is replaced by more equations\n",
    "\\begin{align*}\n",
    "\t- \\nabla p + \\mathrm{div}(2 \\mu \\boldsymbol{\\varepsilon}(\\mathbf{u})) + \\mathbf{b} &= 0 && \\text{in } \\Omega, \\\\\n",
    "\t\\mathrm{div}\\mathbf{u} + \\frac{p}{\\lambda} &= 0 && \\text{in } \\Omega, \\\\\n",
    "\tp \\mathbf{n} + 2 \\mu \\boldsymbol{\\varepsilon}(\\mathbf{u}) \\cdot \\mathbf{n} &= \\mathbf{g} && \\text{on } \\Gamma_{\\text{N}}, \\\\\n",
    "\t\\mathbf{u} &= \\bar{\\mathbf{u}} && \\text{on } \\Gamma_{\\text{D}},\n",
    "\\end{align*}\n",
    "Its weak formulation being: find $(\\mathbf{u},p)$ s.t.\n",
    "\\begin{align*}\n",
    "    -\\int_\\Omega p \\text{ div}\\, \\mathbf{v} \\,\\mathrm{d}X\n",
    "    +\n",
    "    \\int_\\Omega 2 \\mu \\boldsymbol{\\varepsilon}(\\mathbf{u}) : \\boldsymbol{\\varepsilon}(\\mathbf{v}) \\,\\mathrm{d}X\n",
    "    &= \\int_\\Omega \\mathbf{b} \\cdot \\mathbf{v} \\,\\mathrm{d}X\n",
    "    + \\int_{\\partial \\Omega} \\mathbf{g} \\cdot \\mathbf{v} \\,\\mathrm{d}S,\n",
    "    \\quad \\forall \\mathbf{v}, \\\\\n",
    "    \\int_\\Omega \\left(\\mathrm{div}\\mathbf{u}+\\frac{p}{\\lambda} \\right) q \\,\\mathrm{d}X\n",
    "    &=\n",
    "    0,\n",
    "    \\quad \\forall q.\n",
    "\\end{align*}\n",
    "It is an example of Hellinger-Reissner mixed formulation\n",
    "and the existence is assured e.g. by the Babuška-Brezi condition."
   ]
  },
  {
   "cell_type": "markdown",
   "metadata": {},
   "source": [
    "### Implementation"
   ]
  },
  {
   "cell_type": "markdown",
   "metadata": {},
   "source": [
    "Since FEniCS requires only one form, we rewrite the system above to a one variational equality\n",
    "\\begin{equation}\n",
    "    -\\int_\\Omega p \\text{ div}\\, \\mathbf{v} \\,\\mathrm{d}X\n",
    "    +\n",
    "    \\int_\\Omega 2 \\mu \\boldsymbol{\\varepsilon}(\\mathbf{u}) : \\boldsymbol{\\varepsilon}(\\mathbf{v}) \\,\\mathrm{d}X\n",
    "    - \\int_\\Omega \\left(\\mathrm{div}\\mathbf{u}+\\frac{p}{\\lambda} \\right) q \\,\\mathrm{d}X\n",
    "    = \\int_\\Omega \\mathbf{b} \\cdot \\mathbf{v} \\,\\mathrm{d}X\n",
    "    + \\int_{\\partial \\Omega} \\mathbf{g} \\cdot \\mathbf{v} \\,\\mathrm{d}S,\n",
    "    \\,\\forall \\mathbf{v},\\,\\forall q.\n",
    "\\end{equation}\n",
    "We have to also choose the discrete subspaces carefully in order to keep the Babuška-Brezi condition valid,\n",
    "even uniformly with respect to the discretization parameter;\n",
    "see the list of suitable pairs of function spaces in [Hughes, T. J. R. - The Finite Element Method (1987), Chapter 4, pp. 201]\n",
    "\n",
    "First of all it is necessary redefine stress function using new variable $p$."
   ]
  },
  {
   "cell_type": "code",
   "execution_count": 24,
   "metadata": {},
   "outputs": [],
   "source": [
    "import fenics as fe\n",
    "import matplotlib.pyplot as plt\n",
    "\n",
    "# --------------------\n",
    "# Functions and classes\n",
    "# --------------------\n",
    "def bottom(x, on_boundary):\n",
    "    return (on_boundary and fe.near(x[1], 0.0))\n",
    "\n",
    "\n",
    "# Strain function\n",
    "def epsilon(u):\n",
    "    return fe.sym(fe.grad(u))\n",
    "\n",
    "\n",
    "# Stress function\n",
    "def sigma(u, p):\n",
    "    return p*fe.Identity(2) + 2*mu*epsilon(u)\n"
   ]
  },
  {
   "cell_type": "markdown",
   "metadata": {},
   "source": [
    "Definitions of material constants remains the same. It holds also for mesh."
   ]
  },
  {
   "cell_type": "code",
   "execution_count": 25,
   "metadata": {},
   "outputs": [],
   "source": [
    "# --------------------\n",
    "# Parameters\n",
    "# --------------------\n",
    "E = 70.0e6  # Youngs modulus\n",
    "nu = 0.4999  # Poissons ratio\n",
    "lmbda, mu = E*nu/(1 + nu)/(1 - 2*nu), E/2/(1 + nu)  # Lame's constant\n",
    "\n",
    "l_x, l_y = 5.0, 5.0  # Domain dimensions\n",
    "n_x, n_y = 20, 20  # Number of elements\n",
    "\n",
    "# Load\n",
    "g_int = -10000000.0\n",
    "g = fe.Constant((0.0, g_int))\n",
    "\n",
    "# --------------------\n",
    "# Geometry\n",
    "# --------------------\n",
    "mesh = fe.RectangleMesh(fe.Point(0.0, 0.0), fe.Point(l_x, l_y), n_x, n_y)\n",
    "\n",
    "# Definition of Neumann condition domain\n",
    "boundaries = fe.MeshFunction(\"size_t\", mesh, mesh.topology().dim() - 1)\n",
    "boundaries.set_all(0)\n",
    "\n",
    "top = fe.AutoSubDomain(lambda x: fe.near(x[1], l_y))\n",
    "\n",
    "top.mark(boundaries, 1)\n",
    "ds = fe.ds(subdomain_data=boundaries)"
   ]
  },
  {
   "cell_type": "markdown",
   "metadata": {},
   "source": [
    "The crucial aspect of mixed formulation id definition of Function space. The space for displacements is vector-valued meanwhile function space for pressure variable is scalar. In addition, it is appropriate to select different degrees of space for each variable to maintain Babuška–Brezzi inf-sup condition. To implement such space in FEniCS it is necessary define individual element objects:"
   ]
  },
  {
   "cell_type": "code",
   "execution_count": 26,
   "metadata": {},
   "outputs": [],
   "source": [
    "P1 = fe.VectorElement('P', fe.triangle, 2)\n",
    "P2 = fe.FiniteElement('P', fe.triangle, 1)"
   ]
  },
  {
   "cell_type": "markdown",
   "metadata": {},
   "source": [
    "where first stands for second-order polynomial vector-valued element and second stands for first-order polynomial scalar element. Next step is definition of mixed element by calling *MixedElement* constructor with array of individual elements."
   ]
  },
  {
   "cell_type": "code",
   "execution_count": 27,
   "metadata": {},
   "outputs": [],
   "source": [
    "element = fe.MixedElement([P1, P2])"
   ]
  },
  {
   "cell_type": "markdown",
   "metadata": {},
   "source": [
    "And finally mixed function space is created by *FunctionSpace* object with mixed element as argument."
   ]
  },
  {
   "cell_type": "code",
   "execution_count": 28,
   "metadata": {},
   "outputs": [],
   "source": [
    "V = fe.FunctionSpace(mesh, element)"
   ]
  },
  {
   "cell_type": "markdown",
   "metadata": {},
   "source": [
    "Dirichlet boundary condition are defined by classic way. In this case the space *V* repsesents whole mixed function space, instead of *V.sub(0)* represents vector-valued displacement subspace and *V.sub(1)* represents scalar space for pressure."
   ]
  },
  {
   "cell_type": "code",
   "execution_count": 29,
   "metadata": {},
   "outputs": [],
   "source": [
    "# --------------------\n",
    "# Boundary conditions\n",
    "# --------------------\n",
    "bc = fe.DirichletBC(V.sub(0), fe.Constant((0.0, 0.0)), bottom)"
   ]
  },
  {
   "cell_type": "markdown",
   "metadata": {},
   "source": [
    "It is also possible to access to individual subspaces of subspace. For example following *V.sub(0).sub(1)* is space for $y$-displacements."
   ]
  },
  {
   "cell_type": "code",
   "execution_count": 30,
   "metadata": {},
   "outputs": [],
   "source": [
    "bc_2 = fe.DirichletBC(V.sub(0).sub(1), 0.0, bottom)"
   ]
  },
  {
   "cell_type": "markdown",
   "metadata": {},
   "source": [
    "Calling *fe.TestFunction(V)* in mixed formulation returns test function on whole mixed space. It is possible to extract test functions from individual spaces by function *fe.split()*, but simpler solution is calling *fe.TestFunctions(V)* instead of *fe.TestFunction(V)*. It returns splitted functions of individual spaces. The same holds for trial functions.\n",
    "\n",
    "The weak form presented below is for nearly incompressible continuum. For full incompressibility, it is neccessary to delete $p/\\lambda$ member."
   ]
  },
  {
   "cell_type": "code",
   "execution_count": 31,
   "metadata": {},
   "outputs": [],
   "source": [
    "# --------------------\n",
    "# Weak form\n",
    "# --------------------\n",
    "u_test, p_test = fe.TestFunctions(V)\n",
    "u_tr, p_tr = fe.TrialFunctions(V)\n",
    "\n",
    "a = fe.inner(epsilon(u_test), sigma(u_tr, p_tr))*fe.dx\n",
    "a += -p_test*(fe.div(u_tr) + p_tr/lmbda)*fe.dx\n",
    "L = fe.inner(g, u_test)*ds(1)"
   ]
  },
  {
   "cell_type": "markdown",
   "metadata": {},
   "source": [
    "Solution is obtained by classic way."
   ]
  },
  {
   "cell_type": "code",
   "execution_count": 32,
   "metadata": {},
   "outputs": [
    {
     "name": "stdout",
     "output_type": "stream",
     "text": [
      "Calling FFC just-in-time (JIT) compiler, this may take some time.\n"
     ]
    }
   ],
   "source": [
    "# --------------------\n",
    "# Solver\n",
    "# --------------------\n",
    "sol = fe.Function(V)\n",
    "fe.solve(a == L, sol, bc)"
   ]
  },
  {
   "cell_type": "markdown",
   "metadata": {},
   "source": [
    "To postprocess solution, it is possible access to subspaces by *.sub(n)*."
   ]
  },
  {
   "cell_type": "code",
   "execution_count": 33,
   "metadata": {},
   "outputs": [
    {
     "data": {
      "image/png": "[encoded data removed]",
      "text/plain": [
       "<matplotlib.figure.Figure at 0x7f10e8c13860>"
      ]
     },
     "metadata": {
      "needs_background": "light"
     },
     "output_type": "display_data"
    },
    {
     "data": {
      "image/png": "[encoded data removed]",
      "text/plain": [
       "<matplotlib.figure.Figure at 0x7f10e8bbb7b8>"
      ]
     },
     "metadata": {
      "needs_background": "light"
     },
     "output_type": "display_data"
    }
   ],
   "source": [
    "# --------------------\n",
    "# Post-process\n",
    "# --------------------\n",
    "# Plot solution\n",
    "fe.plot(sol.sub(0), mode=\"displacement\")\n",
    "plt.show()\n",
    "plot = fe.plot(sol.sub(1))\n",
    "plt.colorbar(plot)\n",
    "plt.show()"
   ]
  },
  {
   "cell_type": "markdown",
   "metadata": {},
   "source": [
    "### Subspace"
   ]
  },
  {
   "cell_type": "markdown",
   "metadata": {},
   "source": [
    "In this example solution is saved in *sol* variable as mixed function. To acces individual subfunctions, FEniCS provides function *split*. There exists two different version of this function. The first is called via FEniCS package function as"
   ]
  },
  {
   "cell_type": "code",
   "execution_count": 34,
   "metadata": {},
   "outputs": [],
   "source": [
    "u, p = fe.split(sol)"
   ]
  },
  {
   "cell_type": "markdown",
   "metadata": {},
   "source": [
    "It returns some kind of link on subspace. It is usually sufficient for plotting for example, but may not be sufficient for some operations with subfunctions. Therefore FEniCS provides another split function."
   ]
  },
  {
   "cell_type": "code",
   "execution_count": 35,
   "metadata": {},
   "outputs": [],
   "source": [
    "u, p = sol.split()"
   ]
  },
  {
   "cell_type": "markdown",
   "metadata": {},
   "source": [
    "It returns two subfunctions of type *Function*. "
   ]
  },
  {
   "cell_type": "markdown",
   "metadata": {},
   "source": [
    "### Code"
   ]
  },
  {
   "cell_type": "code",
   "execution_count": 36,
   "metadata": {},
   "outputs": [
    {
     "data": {
      "image/png": "[encoded data removed]",
      "text/plain": [
       "<matplotlib.figure.Figure at 0x7f10ee05ee80>"
      ]
     },
     "metadata": {
      "needs_background": "light"
     },
     "output_type": "display_data"
    },
    {
     "data": {
      "image/png": "[encoded data removed]",
      "text/plain": [
       "<matplotlib.figure.Figure at 0x7f10e8744400>"
      ]
     },
     "metadata": {
      "needs_background": "light"
     },
     "output_type": "display_data"
    }
   ],
   "source": [
    "import fenics as fe\n",
    "import matplotlib.pyplot as plt\n",
    "\n",
    "# --------------------\n",
    "# Functions and classes\n",
    "# --------------------\n",
    "def bottom(x, on_boundary):\n",
    "    return (on_boundary and fe.near(x[1], 0.0))\n",
    "\n",
    "\n",
    "# Strain function\n",
    "def epsilon(u):\n",
    "    return 0.5*(fe.nabla_grad(u) + fe.nabla_grad(u).T)\n",
    "\n",
    "\n",
    "# Stress function\n",
    "def sigma(u, p):\n",
    "    return p*fe.Identity(2) + 2*mu*epsilon(u)\n",
    "\n",
    "\n",
    "# --------------------\n",
    "# Parameters\n",
    "# --------------------\n",
    "E = 70.0e6  # Youngs modulus\n",
    "nu = 0.4999  # Poissons ratio\n",
    "\n",
    "l_x, l_y = 5.0, 5.0  # Domain dimensions\n",
    "n_x, n_y = 20, 20  # Number of elements\n",
    "\n",
    "# Load\n",
    "g_int = -10000000.0\n",
    "\n",
    "# --------------------\n",
    "# Geometry\n",
    "# --------------------\n",
    "mesh = fe.RectangleMesh(fe.Point(0.0, 0.0), fe.Point(l_x, l_y), n_x, n_y)\n",
    "\n",
    "# Definition of Neumann condition domain\n",
    "boundaries = fe.MeshFunction(\"size_t\", mesh, mesh.topology().dim() - 1)\n",
    "boundaries.set_all(0)\n",
    "\n",
    "top = fe.AutoSubDomain(lambda x: fe.near(x[1], l_y))\n",
    "\n",
    "top.mark(boundaries, 1)\n",
    "ds = fe.ds(subdomain_data=boundaries)\n",
    "\n",
    "# --------------------\n",
    "# Function spaces\n",
    "# --------------------\n",
    "P1 = fe.VectorElement('P', fe.triangle, 2)\n",
    "P2 = fe.FiniteElement('P', fe.triangle, 1)\n",
    "element = fe.MixedElement([P1, P2])\n",
    "V = fe.FunctionSpace(mesh, element)\n",
    "g = fe.Constant((0.0, g_int))\n",
    "\n",
    "# --------------------\n",
    "# Boundary conditions\n",
    "# --------------------\n",
    "bc = fe.DirichletBC(V.sub(0), fe.Constant((0.0, 0.0)), bottom)\n",
    "\n",
    "# --------------------\n",
    "# Weak form\n",
    "# --------------------\n",
    "u_test, p_test = fe.TestFunctions(V)\n",
    "u_tr, p_tr = fe.TrialFunctions(V)\n",
    "\n",
    "a = fe.inner(epsilon(u_test), sigma(u_tr, p_tr))*fe.dx\n",
    "a += -p_test*(fe.div(u_tr) + p_tr/lmbda)*fe.dx\n",
    "L = fe.inner(g, u_test)*ds(1)\n",
    "\n",
    "\n",
    "# --------------------\n",
    "# Solver\n",
    "# --------------------\n",
    "sol = fe.Function(V)\n",
    "fe.solve(a == L, sol, bc)\n",
    "\n",
    "# --------------------\n",
    "# Post-process\n",
    "# --------------------\n",
    "# Plot solution\n",
    "fe.plot(sol.sub(0), mode=\"displacement\")\n",
    "plt.show()\n",
    "plot = fe.plot(sol.sub(1))\n",
    "plt.colorbar(plot)\n",
    "plt.show()"
   ]
  },
  {
   "cell_type": "markdown",
   "metadata": {},
   "source": [
    "### Uncommented other example - Mindlin beam"
   ]
  },
  {
   "cell_type": "code",
   "execution_count": 42,
   "metadata": {},
   "outputs": [
    {
     "data": {
      "image/png": "[encoded data removed]",
      "text/plain": [
       "<matplotlib.figure.Figure at 0x7f10ee073128>"
      ]
     },
     "metadata": {
      "needs_background": "light"
     },
     "output_type": "display_data"
    }
   ],
   "source": [
    "import fenics as fe\n",
    "import matplotlib.pyplot as plt\n",
    "\n",
    "# --------------------\n",
    "# Parameters\n",
    "# --------------------\n",
    "E = 50.0e9\n",
    "G = 25.0e9\n",
    "b = 0.1\n",
    "h = 0.01\n",
    "Ar = b*h\n",
    "I = (1.0/12.0)*b*h**3\n",
    "\n",
    "k = 1\n",
    "f_lin = 1.0\n",
    "n = 80000\n",
    "l = 2.0\n",
    "F = 1.0\n",
    "\n",
    "# --------------------\n",
    "# Define geometry\n",
    "# --------------------\n",
    "mesh = fe.IntervalMesh(n, 0, l)\n",
    "\n",
    "# --------------------\n",
    "# Define spaces\n",
    "# --------------------\n",
    "P1 = fe.FiniteElement('P', fe.interval, 2)\n",
    "element = fe.MixedElement([P1, P1, P1])\n",
    "V = fe.FunctionSpace(mesh, element)\n",
    "W = fe.FunctionSpace(mesh, 'P', 2)\n",
    "\n",
    "d_u, d_w, d_phi = fe.TestFunctions(V)\n",
    "u, w, phi = fe.TrialFunctions(V)\n",
    "u_ = fe.Function(V)\n",
    "\n",
    "# --------------------\n",
    "# Boundary conditions\n",
    "# --------------------\n",
    "bc_u = fe.Constant(0.0)\n",
    "\n",
    "tol = 1e-14\n",
    "def left_end(x):\n",
    "    return fe.near(x[0], 0.0)\n",
    "\n",
    "def right_end(x):\n",
    "    return fe.near(x[0], 2.0)\n",
    "\n",
    "bc1 = fe.DirichletBC(V.sub(0), fe.Constant(0.0), left_end)\n",
    "bc2 = fe.DirichletBC(V.sub(1), fe.Constant(0.0), left_end)\n",
    "bc3 = fe.DirichletBC(V.sub(1), fe.Constant(0.0), right_end)\n",
    "bc4 = fe.DirichletBC(V.sub(0), fe.Constant(0.0), right_end)\n",
    "bc = [bc1, bc2, bc3, bc4]\n",
    "\n",
    "# --------------------\n",
    "# Initialization\n",
    "# --------------------\n",
    "X = fe.Function(V)\n",
    "f = fe.Function(V)\n",
    "f.interpolate(fe.Constant((0.0, f_lin, 0.0)))\n",
    "\n",
    "# --------------------\n",
    "# Solution\n",
    "# --------------------\n",
    "dx_shear = fe.dx(metadata={\"quadrature_degree\": 2})\n",
    "A = d_u.dx(0)*E*Ar*u.dx(0)*fe.dx + \\\n",
    "    d_w.dx(0)*G*Ar*w.dx(0)*dx_shear + d_w.dx(0)*G*Ar*phi*dx_shear + \\\n",
    "    d_phi.dx(0)*E*I*phi.dx(0)*fe.dx + d_phi*G*Ar*(phi + w.dx(0))*dx_shear + \\\n",
    "    fe.Constant(0.0)*d_w*fe.dx\n",
    "\n",
    "A_ass, b_ass = fe.assemble_system(fe.lhs(A), fe.rhs(A), bc)\n",
    "\n",
    "pointForce = fe.PointSource(V.sub(1), fe.Point(1.0), 1)\n",
    "pointForce.apply(b_ass)\n",
    "\n",
    "fe.solve(A_ass, X.vector(), b_ass)\n",
    "\n",
    "\n",
    "u_, w_, phi_ = X.split(deepcopy=True)\n",
    "\n",
    "#plot(w_)\n",
    "fe.plot(X.sub(1))\n",
    "plt.xlabel(\"x [m]\")\n",
    "plt.ylabel(\"deflection [m]\")\n",
    "plt.show()"
   ]
  },
  {
   "cell_type": "code",
   "execution_count": null,
   "metadata": {},
   "outputs": [],
   "source": []
  }
 ],
 "metadata": {
  "kernelspec": {
   "display_name": "Python 3",
   "language": "python",
   "name": "python3"
  },
  "language_info": {
   "codemirror_mode": {
    "name": "ipython",
    "version": 3
   },
   "file_extension": ".py",
   "mimetype": "text/x-python",
   "name": "python",
   "nbconvert_exporter": "python",
   "pygments_lexer": "ipython3",
   "version": "3.6.9"
  }
 },
 "nbformat": 4,
 "nbformat_minor": 2
}
