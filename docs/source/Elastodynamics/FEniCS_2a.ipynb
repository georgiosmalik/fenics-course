{
 "cells": [
  {
   "cell_type": "markdown",
   "metadata": {},
   "source": [
    "# Elastodynamics - Implicit integrator"
   ]
  },
  {
   "cell_type": "markdown",
   "metadata": {},
   "source": [
    "Weak formulation of elastodynamic medium in specific time instant $t_{i+1}$ reads: Find $\\mathbf{u}_{i+1}$ s.t.\n",
    "\\begin{equation}\n",
    "\\int_\\Omega\\boldsymbol{\\sigma}_{i+1}:\\delta\\boldsymbol{\\varepsilon}\\ \\mathrm{d}\\Omega + \\int_\\Omega \\mathbf{b}\\cdot\\delta\\mathbf{u}\\ \\mathrm{d}\\Omega + \n",
    "\\int_\\Omega\\rho\\ddot{\\mathbf{u}}_{i+1}\\cdot\\delta\\mathbf{u}\\,\\mathrm{d}\\Omega +\n",
    "\\int_{\\partial\\Omega}\\mathbf{f}\\cdot\\delta\\mathbf{u}\\ \\mathrm{d}\\partial\\Omega = 0, \\forall \\delta\\mathbf{u},\n",
    "\\end{equation}\n",
    "where again\n",
    "\\begin{equation}\n",
    "\\boldsymbol{\\sigma}=\\lambda\\mathrm{tr}(\\boldsymbol{\\varepsilon})\\mathbf{I} + 2\\mu\\boldsymbol{\\varepsilon}, \\boldsymbol{\\varepsilon}=\\frac{1}{2}\\left(\\nabla\\mathbf{u}+\\nabla^{\\mathrm{T}}\\mathbf{u}\\right), \\delta\\boldsymbol{\\varepsilon}=\\frac{1}{2}\\left(\\nabla\\delta\\mathbf{u}+\\nabla^{\\mathrm{T}}\\delta\\mathbf{u}\\right).\n",
    "\\end{equation}\n",
    "\n",
    "Time integration scheme depends on discretization of second derivative. For constant acceleration Newmark method speed and displacement in time $t_{i+1}$ can be evaluated based on values in time $t_i$ as\n",
    "\\begin{equation}\n",
    "\\dot{\\mathbf{u}}_{i+1}=\\dot{\\mathbf{u}}_{i} + \\frac{\\Delta t}{2}(\\ddot{\\mathbf{u}}_{i} + \\ddot{\\mathbf{u}}_{i+1}),\n",
    "\\end{equation}\n",
    "\\begin{equation}\n",
    "\\mathbf{u}_{i+1} = \\mathbf{u}_{i} + \\Delta t\\dot{\\mathbf{u}}_{i} + \\frac{\\Delta t^2}{4}(\\ddot{\\mathbf{u}}_{i} + \\ddot{\\mathbf{u}}_{i+1}),\n",
    "\\end{equation}\n",
    "which can be rearranged to\n",
    "\\begin{equation}\n",
    "\\ddot{\\mathbf{u}}_{i+1} = \\frac{4}{\\Delta t^2}(\\mathbf{u}_{i+1} - \\tilde{\\mathbf{u}}_{i}),\n",
    "\\end{equation}\n",
    "where auxiliary variable\n",
    "\\begin{equation}\n",
    "\\tilde{\\mathbf{u}}_{i} = \\mathbf{u}_{i} + \\Delta t\\dot{\\mathbf{u}}_{i} + \\frac{\\Delta t^2}{4}\\ddot{\\mathbf{u}}_{i}\n",
    "\\end{equation}\n",
    "depends only on old values. After substituting to previous weak form, we get final relationship for $\\mathbf{u}_{i+1}$ calculation:\n",
    "\n",
    "Find $\\mathbf{u}_{i+1}$ s.t.\n",
    "\\begin{equation}\n",
    "\\int_\\Omega\\boldsymbol{\\sigma}_{i+1}:\\delta\\boldsymbol{\\varepsilon}\\ \\mathrm{d}\\Omega + \\int_\\Omega \\mathbf{b}\\cdot\\delta\\mathbf{u}\\ \\mathrm{d}\\Omega + \n",
    "\\int_\\Omega\\rho\\left(\\frac{4}{\\Delta t^2}(\\mathbf{u}_{i+1} - \\tilde{\\mathbf{u}}_{i})\\right)\\cdot\\delta\\mathbf{u}\\,\\mathrm{d}\\Omega +\n",
    "\\int_{\\partial\\Omega}\\mathbf{f}\\cdot\\delta\\mathbf{u}\\ \\mathrm{d}\\partial\\Omega = 0, \\forall \\delta\\mathbf{u},\n",
    "\\end{equation}"
   ]
  },
  {
   "cell_type": "markdown",
   "metadata": {},
   "source": [
    "## Implementation"
   ]
  },
  {
   "cell_type": "markdown",
   "metadata": {},
   "source": [
    "We again import all neccessary packages and define auxiliary functions and parameters. "
   ]
  },
  {
   "cell_type": "code",
   "execution_count": 10,
   "metadata": {},
   "outputs": [],
   "source": [
    "import fenics as fe\n",
    "import matplotlib.pyplot as plt\n",
    "import numpy as np\n",
    "import time\n",
    "\n",
    "\n",
    "# --------------------\n",
    "# Functions and classes\n",
    "# --------------------\n",
    "def bottom(x, on_boundary):\n",
    "    return (on_boundary and fe.near(x[1], 0.0))\n",
    "\n",
    "\n",
    "def indent_area(x, on_boundary):\n",
    "    return (on_boundary and fe.near(x[1], l_y) and abs(x[0] - 0.5*l_x) < 0.2*l_x)\n",
    "\n",
    "\n",
    "# Strain function\n",
    "def epsilon(u):\n",
    "    return 0.5*(fe.nabla_grad(u) + fe.nabla_grad(u).T)\n",
    "\n",
    "\n",
    "# Stress function\n",
    "def sigma(u):\n",
    "    return lmbda*fe.div(u)*fe.Identity(2) + 2*mu*epsilon(u)\n",
    "\n",
    "\n",
    "# --------------------\n",
    "# Parameters\n",
    "# --------------------\n",
    "# Lame's constants\n",
    "lmbda = 1.25\n",
    "mu = 1.0\n",
    "rho = 1.0\n",
    "\n",
    "l_x, l_y, l_z = 1.0, 1.0, 0.1  # Domain dimensions\n",
    "n_x, n_y, n_z = 100, 100, 2  # Number of elements\n",
    "\n",
    "# Load\n",
    "f_int = 1.0e-1"
   ]
  },
  {
   "cell_type": "markdown",
   "metadata": {},
   "source": [
    "And we also define start time, end time and time step. There is many options how define time loop, it is possible for example via `linspace()` which create equidistantly distributed array of numbers. "
   ]
  },
  {
   "cell_type": "code",
   "execution_count": 11,
   "metadata": {},
   "outputs": [],
   "source": [
    "# Time-stepping\n",
    "t_start = 0.0  # start time\n",
    "t_end = 1.0  # end time\n",
    "t_steps = 40  # number of time steps\n",
    "\n",
    "t = np.linspace(t_start, t_end, t_steps)\n",
    "dt = np.asscalar(t[1] - t[0])"
   ]
  },
  {
   "cell_type": "markdown",
   "metadata": {},
   "source": [
    "Mesh is created using predefined object `BoxMesh`."
   ]
  },
  {
   "cell_type": "code",
   "execution_count": 12,
   "metadata": {},
   "outputs": [
    {
     "data": {
      "image/png": "[encoded data removed]",
      "text/plain": [
       "<matplotlib.figure.Figure at 0x7f96d84ff400>"
      ]
     },
     "metadata": {
      "needs_background": "light"
     },
     "output_type": "display_data"
    }
   ],
   "source": [
    "# --------------------\n",
    "# Geometry\n",
    "# --------------------\n",
    "mesh = fe.RectangleMesh(fe.Point(0.0, 0.0), fe.Point(l_x, l_y), n_x, n_y)\n",
    "\n",
    "fe.plot(mesh)\n",
    "plt.show()"
   ]
  },
  {
   "cell_type": "markdown",
   "metadata": {},
   "source": [
    "As earlier we create vector-value function space and appropriate trial and test function."
   ]
  },
  {
   "cell_type": "code",
   "execution_count": 13,
   "metadata": {},
   "outputs": [],
   "source": [
    "# --------------------\n",
    "# Function spaces\n",
    "# --------------------\n",
    "V = fe.VectorFunctionSpace(mesh, \"CG\", 2)\n",
    "u_tr = fe.TrialFunction(V)\n",
    "u_test = fe.TestFunction(V)"
   ]
  },
  {
   "cell_type": "markdown",
   "metadata": {},
   "source": [
    "Neumann boundary conditions are prescribed as previously. For moving Dirichlet boundary condition we can also in each time step define new `DirichletBC` object and send it to solver. There is more elegant way using FEniCS object `Expression`. \n",
    "> TODO: More about expressions / creating user defined expression"
   ]
  },
  {
   "cell_type": "code",
   "execution_count": 14,
   "metadata": {},
   "outputs": [],
   "source": [
    "# --------------------\n",
    "# Boundary conditions\n",
    "# --------------------\n",
    "u_D = fe.Expression(\"-t/100\", t=0.0, degree=0)\n",
    "\n",
    "bc1 = fe.DirichletBC(V, fe.Constant((0.0, 0.0)), bottom)\n",
    "bc2 = fe.DirichletBC(V.sub(1), u_D, indent_area)\n",
    "bc = [bc1, bc2]"
   ]
  },
  {
   "cell_type": "markdown",
   "metadata": {},
   "source": [
    "Now we can create all functions we need, where `u_bar` represents $\\tilde{\\mathbf{u}}$, `du` is $\\dot{\\mathbf{u}}$ and `ddu` is $\\ddot{\\mathbf{u}}$. Since we create object `Function`... "
   ]
  },
  {
   "cell_type": "code",
   "execution_count": 15,
   "metadata": {},
   "outputs": [],
   "source": [
    "# --------------------\n",
    "# Initialization\n",
    "# --------------------\n",
    "u = fe.Function(V)\n",
    "u_bar = fe.Function(V)\n",
    "du = fe.Function(V)\n",
    "ddu = fe.Function(V)\n",
    "ddu_old = fe.Function(V)"
   ]
  },
  {
   "cell_type": "markdown",
   "metadata": {},
   "source": [
    "We need also identify output file. In dynamic regime it is valuabe works with `.xdmf` files. Creation is perfomed by"
   ]
  },
  {
   "cell_type": "code",
   "execution_count": 16,
   "metadata": {},
   "outputs": [],
   "source": [
    "file = fe.XDMFFile(\"FEniCS_2a_output.xdmf\")  # XDMF file"
   ]
  },
  {
   "cell_type": "markdown",
   "metadata": {},
   "source": [
    "Finally, we can write down the weak form of our problem. We define this form outside of time loop. It is possible by using object `Function`. For example if we use `u_tr` in formulation, FEniCS remember the pointer on this object. We cannot redefine `u_tr` by classic way `u_tr=...`, but we must use methods of `Function` for redefining, shown later."
   ]
  },
  {
   "cell_type": "code",
   "execution_count": 17,
   "metadata": {},
   "outputs": [],
   "source": [
    "# --------------------\n",
    "# Weak form\n",
    "# --------------------\n",
    "A_form = fe.inner(sigma(u_tr), epsilon(u_test))*fe.dx + 4*rho/(dt*dt)*fe.dot(u_tr - u_bar, u_test)*fe.dx"
   ]
  },
  {
   "cell_type": "markdown",
   "metadata": {},
   "source": [
    "Time loop is simple `for` cycle where the first line is redefinition of `u_bar` for given time step. Next part is classical solver and the rest is updating of auxiliary variables `ddu_old`, `ddu` and `du`. Line `file.write(u, ti)` write displacement solution, where second argument is given time.\n",
    "> TODO: Okomentovat funkci assign"
   ]
  },
  {
   "cell_type": "code",
   "execution_count": 18,
   "metadata": {},
   "outputs": [
    {
     "name": "stdout",
     "output_type": "stream",
     "text": [
      "0.0\n",
      "0.025641025641\n",
      "0.0512820512821\n",
      "0.0769230769231\n",
      "0.102564102564\n",
      "0.128205128205\n",
      "0.153846153846\n",
      "0.179487179487\n",
      "0.205128205128\n",
      "0.230769230769\n",
      "0.25641025641\n",
      "0.282051282051\n",
      "0.307692307692\n",
      "0.333333333333\n",
      "0.358974358974\n",
      "0.384615384615\n",
      "0.410256410256\n",
      "0.435897435897\n",
      "0.461538461538\n",
      "0.487179487179\n",
      "0.512820512821\n",
      "0.538461538462\n",
      "0.564102564103\n",
      "0.589743589744\n",
      "0.615384615385\n",
      "0.641025641026\n",
      "0.666666666667\n",
      "0.692307692308\n",
      "0.717948717949\n",
      "0.74358974359\n",
      "0.769230769231\n",
      "0.794871794872\n",
      "0.820512820513\n",
      "0.846153846154\n",
      "0.871794871795\n",
      "0.897435897436\n",
      "0.923076923077\n",
      "0.948717948718\n",
      "0.974358974359\n",
      "1.0\n"
     ]
    }
   ],
   "source": [
    "# --------------------\n",
    "# Time loop\n",
    "# --------------------\n",
    "for ti in t:\n",
    "    u_D.t = ti\n",
    "    u_bar.assign(u + dt*du + 0.25*dt*dt*ddu)\n",
    "    \n",
    "    #A, b = fe.assemble_system(fe.lhs(A_form), fe.rhs(A_form), bc)\n",
    "    #fe.solve(A, u.vector(), b, \"cg\", \"jacobi\")\n",
    "    fe.solve(fe.lhs(A_form) == fe.rhs(A_form), u, bc)\n",
    "    \n",
    "    ddu_old.assign(ddu)\n",
    "    ddu.assign(4/(dt*dt)*(u - u_bar))\n",
    "    du.assign(du + 0.5*dt*(ddu + ddu_old))\n",
    "\n",
    "    file.write(u, ti)\n",
    "    \n",
    "    print(ti)\n",
    "file.close()"
   ]
  },
  {
   "cell_type": "code",
   "execution_count": 7,
   "metadata": {},
   "outputs": [
    {
     "name": "stdout",
     "output_type": "stream",
     "text": [
      "0.0\n",
      "2.5641025641\n",
      "5.12820512821\n",
      "7.69230769231\n",
      "10.2564102564\n",
      "12.8205128205\n",
      "15.3846153846\n",
      "17.9487179487\n",
      "20.5128205128\n",
      "23.0769230769\n",
      "25.641025641\n",
      "28.2051282051\n",
      "30.7692307692\n",
      "33.3333333333\n",
      "35.8974358974\n",
      "38.4615384615\n",
      "41.0256410256\n",
      "43.5897435897\n",
      "46.1538461538\n",
      "48.7179487179\n",
      "51.2820512821\n",
      "53.8461538462\n",
      "56.4102564103\n",
      "58.9743589744\n",
      "61.5384615385\n",
      "64.1025641026\n",
      "66.6666666667\n",
      "69.2307692308\n",
      "71.7948717949\n",
      "74.358974359\n",
      "76.9230769231\n",
      "79.4871794872\n",
      "82.0512820513\n",
      "84.6153846154\n",
      "87.1794871795\n",
      "89.7435897436\n",
      "92.3076923077\n",
      "94.8717948718\n",
      "97.4358974359\n",
      "100.0\n",
      "76.44880890846252\n"
     ]
    }
   ],
   "source": [
    "# --------------------\n",
    "# Boundary conditions\n",
    "# --------------------\n",
    "u_D = fe.Expression(\"t\", t=0.0)\n",
    "\n",
    "bc1 = fe.DirichletBC(V, fe.Constant((0.0, 0.0, 0.0)), bottom)\n",
    "bc2 = fe.DirichletBC(V.sub(1), u_D, indent_area)\n",
    "\n",
    "# --------------------\n",
    "# Initialization\n",
    "# --------------------\n",
    "u = fe.Function(V)\n",
    "u_bar = fe.Function(V)\n",
    "du = fe.Function(V)\n",
    "ddu = fe.Function(V)\n",
    "ddu_old = fe.Function(V)\n",
    "\n",
    "file = fe.XDMFFile(\"FEniCS_2a_output.xdmf\")  # XDMF file\n",
    "f = fe.Constant((0.0, 0.0, f_int))  # Surface traction\n",
    "t = np.linspace(t_start, t_end, t_steps)\n",
    "dt = np.asscalar(t[1] - t[0])\n",
    "\n",
    "# --------------------\n",
    "# Weak form\n",
    "# --------------------\n",
    "A_form = fe.inner(sigma(u_tr), epsilon(u_test))*fe.dx + 4*rho/(dt*dt)*fe.dot(u_tr - u_bar, u_test)*fe.dx - fe.inner(f, u_test)*ds(1)\n",
    "\n",
    "start = time.time()\n",
    "# --------------------\n",
    "# Time loop\n",
    "# --------------------\n",
    "for ti in t:\n",
    "    u_bar.assign(u + dt*du + 0.25*dt*dt*ddu)\n",
    "    \n",
    "    A, b = fe.assemble_system(fe.lhs(A_form), fe.rhs(A_form), bc)\n",
    "    fe.solve(A, u.vector(), b, \"cg\", \"jacobi\")\n",
    "    #fe.solve(fe.lhs(A_form) == fe.rhs(A_form), u, bc)\n",
    "    \n",
    "    ddu_old.assign(ddu)\n",
    "    ddu.assign(4/(dt*dt)*(u - u_bar))\n",
    "    du.assign(du + 0.5*dt*(ddu + ddu_old))\n",
    "\n",
    "    file.write(u, ti)\n",
    "    \n",
    "    print(ti)\n",
    "\n",
    "end = time.time()\n",
    "print(end - start)\n",
    "# --------------------\n",
    "# Post-process\n",
    "# --------------------\n",
    "file.close()"
   ]
  },
  {
   "cell_type": "code",
   "execution_count": null,
   "metadata": {},
   "outputs": [],
   "source": []
  }
 ],
 "metadata": {
  "kernelspec": {
   "display_name": "Python 3",
   "language": "python",
   "name": "python3"
  },
  "language_info": {
   "codemirror_mode": {
    "name": "ipython",
    "version": 3
   },
   "file_extension": ".py",
   "mimetype": "text/x-python",
   "name": "python",
   "nbconvert_exporter": "python",
   "pygments_lexer": "ipython3",
   "version": "3.6.9"
  }
 },
 "nbformat": 4,
 "nbformat_minor": 2
}
