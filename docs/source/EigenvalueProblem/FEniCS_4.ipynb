{
 "cells": [
  {
   "cell_type": "markdown",
   "metadata": {},
   "source": [
    "# Generalized eigenvalue problem"
   ]
  },
  {
   "cell_type": "markdown",
   "metadata": {},
   "source": [
    "Weak form of small-displacement free oscillations has following form\n",
    "\n",
    "\\begin{equation}\n",
    "\\int_\\Omega\\boldsymbol{\\sigma}:\\delta\\boldsymbol{\\varepsilon}\\ \\mathrm{d}\\Omega + \n",
    "\\int_\\Omega\\rho\\ddot{\\mathbf{u}}\\cdot\\delta\\mathbf{u}\\,\\mathrm{d}\\Omega\n",
    " = 0, \\forall \\delta\\mathbf{u}.\n",
    "\\end{equation}\n",
    "\n",
    "If we are looking for normal modes, we assume that all points of continuum oscillates with the same frequency. Therefore we can assume that displacement field is real part of following phasor\n",
    "\n",
    "\\begin{equation}\n",
    "\\mathbf{u}(\\mathbf{x})=\\mathbf{u}_A(\\mathbf{x})\\mathrm{e}^{\\mathrm{i}\\omega t}\n",
    "\\end{equation}\n",
    "\n",
    "and consequently\n",
    "\n",
    "\\begin{equation}\n",
    "\\ddot{\\mathbf{u}}(\\mathbf{x})=-\\omega^2\\mathbf{u}_A(\\mathbf{x})\\mathrm{e}^{\\mathrm{i}\\omega t}.\n",
    "\\end{equation}\n",
    "\n",
    "Using these definitions, our problem becomes\n",
    "\n",
    "\\begin{equation}\n",
    "\\int_\\Omega\\boldsymbol{\\sigma}:\\delta\\boldsymbol{\\varepsilon}\\ \\mathrm{d}\\Omega  - \n",
    "\\omega^2\\int_\\Omega\\rho\\mathbf{u}\\cdot\\delta\\mathbf{u}\\,\\mathrm{d}\\Omega\n",
    " = 0, \\forall \\delta\\mathbf{u}.\n",
    "\\end{equation}\n",
    "\n",
    "This is generalized eigenvalue problem, which can not be solved by default FEniCS solver. For this problems FEniCS provides class *SLEPcEigenSolver* and also FEniCS tools can be used for assembling governing matrices. In matrices notation, eigenvalue problem becomes \n",
    "\n",
    "\\begin{equation}\n",
    "\\mathbf{K}\\mathbf{u} - \\omega^2\\mathbf{M}\\mathbf{u} = \\mathbf{0}\n",
    "\\end{equation}\n",
    "\n",
    "or \n",
    "\n",
    "\\begin{equation}\n",
    "\\mathbf{M}^{-1}\\mathbf{K}\\mathbf{u} - \\omega^2\\mathbf{u} = \\mathbf{0}.\n",
    "\\end{equation}"
   ]
  },
  {
   "cell_type": "markdown",
   "metadata": {},
   "source": [
    "### Implementation"
   ]
  },
  {
   "cell_type": "markdown",
   "metadata": {},
   "source": [
    "Suppose plate modelled in 3D as box with no Dirichlet boundary condition. First half of code is the same as implementation of elasticity.\n",
    "\n",
    ">JS: Pridat boundary condition"
   ]
  },
  {
   "cell_type": "code",
   "execution_count": 2,
   "metadata": {},
   "outputs": [],
   "source": [
    "import fenics as fe\n",
    "import matplotlib.pyplot as plt\n",
    "\n",
    "\n",
    "# --------------------\n",
    "# Functions and classes\n",
    "# --------------------\n",
    "def bottom(x, on_boundary):\n",
    "    return (on_boundary and fe.near(x[1], 0.0))\n",
    "\n",
    "\n",
    "# Strain function\n",
    "def epsilon(u):\n",
    "    return 0.5*(fe.nabla_grad(u) + fe.nabla_grad(u).T)\n",
    "\n",
    "\n",
    "# Stress function\n",
    "def sigma(u):\n",
    "    return lmbda*fe.div(u)*fe.Identity(3) + 2*mu*epsilon(u)\n",
    "\n",
    "\n",
    "# --------------------\n",
    "# Parameters\n",
    "# --------------------\n",
    "# Young modulus, poisson number and density\n",
    "E, nu = 70.0E9, 0.23\n",
    "rho = 2500.0\n",
    "\n",
    "# Lame's constants\n",
    "mu = E/2./(1+nu)\n",
    "lmbda = E*nu/(1+nu)/(1-2*nu)\n",
    "\n",
    "l_x, l_y, l_z = 1.0, 1.0, 0.01  # Domain dimensions\n",
    "n_x, n_y, n_z = 20, 20, 2  # Number of elements\n",
    "\n",
    "# --------------------\n",
    "# Geometry\n",
    "# --------------------\n",
    "mesh = fe.BoxMesh(fe.Point(0.0, 0.0, 0.0), fe.Point(l_x, l_y, l_z), n_x, n_y, n_z)\n",
    "\n",
    "# --------------------\n",
    "# Boundary conditions\n",
    "# --------------------\n",
    "bc = []\n",
    "\n",
    "# --------------------\n",
    "# Function spaces\n",
    "# --------------------\n",
    "V = fe.VectorFunctionSpace(mesh, \"CG\", 2)\n",
    "u_tr = fe.TrialFunction(V)\n",
    "u_test = fe.TestFunction(V)"
   ]
  },
  {
   "cell_type": "markdown",
   "metadata": {},
   "source": [
    "First of all, we must define corresponding weak forms of integral using trial and test function. "
   ]
  },
  {
   "cell_type": "code",
   "execution_count": 3,
   "metadata": {},
   "outputs": [],
   "source": [
    "a_form = fe.inner(sigma(u_tr), epsilon(u_test))*fe.dx\n",
    "m_form = rho*fe.inner(u_tr, u_test)*fe.dx"
   ]
  },
  {
   "cell_type": "markdown",
   "metadata": {},
   "source": [
    "Now we can create two *PETScMatrix()* objects. PETSc provides creating and manipulating with sparse matrices. Last two lines assemble stiffness and mass matrix and stores them to objects *A* and *M*. There is power of FEniCS, because by calling *fe.assemble()*, FEniCS creates matrix, performs integration and localization with no effort."
   ]
  },
  {
   "cell_type": "code",
   "execution_count": 4,
   "metadata": {},
   "outputs": [],
   "source": [
    "a_form = fe.inner(sigma(u_tr), epsilon(u_test))*fe.dx\n",
    "m_form = rho*fe.inner(u_tr, u_test)*fe.dx\n",
    "\n",
    "A = fe.PETScMatrix()\n",
    "M = fe.PETScMatrix()\n",
    "A = fe.assemble(a_form, tensor=A)\n",
    "M = fe.assemble(m_form, tensor=M)"
   ]
  },
  {
   "cell_type": "markdown",
   "metadata": {},
   "source": [
    "Solver is created by calling *SLEPcEigenSolver* constructor with two arguments: stiffness matrix *A* and mass matrix *M*. Following lines provides basic settings of solver. These tables briefly introduce these parameters:\n",
    "\n",
    "| \"problem_type\" | Description |\n",
    "| -- | -- |\n",
    "| “hermitian” | Hermitian |\n",
    "| “non_hermitian” | Non-Hermitian |\n",
    "| “gen_hermitian” | Generalized Hermitian |\n",
    "| “gen_non_hermitian” | Generalized Non-Hermitian |\n",
    "| “pos_gen_non_hermitian” | Generalized Non-Hermitian with positive semidefinite M |\n",
    "\n",
    "| \"spectrum\" | Description |\n",
    "| -- | -- |\n",
    "| “largest magnitude” | eigenvalues with largest magnitude |\n",
    "| “smallest magnitude” | eigenvalues with smallest magnitude |\n",
    "| “largest real” | eigenvalues with largest double part |\n",
    "| “smallest real” | eigenvalues with smallest double part |\n",
    "| “largest imaginary” | eigenvalues with largest imaginary part |\n",
    "| “smallest imaginary” | eigenvalues with smallest imaginary part |\n",
    "| “target magnitude” | eigenvalues closest to target in magnitude (versions >= 3.1) |\n",
    "| “target real” | eigenvalues closest to target in real part (versions >= 3.1) |\n",
    "| “target imaginary” | eigenvalues closest to target in imaginary part (versions >= 3.1) |\n",
    "\n",
    "| \"spectral_transform\" | Description |\n",
    "| -- | -- |\n",
    "| “shift-and-invert” | A shift-and-invert transform |\n",
    "| \" \" | No spectral transform |\n",
    "\n",
    "More parameters are presented in https://fenicsproject.org/docs/dolfin/1.4.0/python/programmers-reference/cpp/la/SLEPcEigenSolver.html."
   ]
  },
  {
   "cell_type": "code",
   "execution_count": 6,
   "metadata": {},
   "outputs": [],
   "source": [
    "# --------------------\n",
    "# Eigen-solver\n",
    "# --------------------\n",
    "eigensolver = fe.SLEPcEigenSolver(A, M)\n",
    "eigensolver.parameters[\"problem_type\"] = \"gen_hermitian\"\n",
    "eigensolver.parameters[\"spectrum\"] = \"smallest real\"\n",
    "eigensolver.parameters[\"spectral_transform\"] = \"shift-and-invert\"\n",
    "eigensolver.parameters[\"spectral_shift\"] = 100.0"
   ]
  },
  {
   "cell_type": "markdown",
   "metadata": {},
   "source": [
    "Now we can solve the eigenvalue problem. Solver takes one parameter: number of eigenvalues to be calculated."
   ]
  },
  {
   "cell_type": "code",
   "execution_count": 8,
   "metadata": {},
   "outputs": [],
   "source": [
    "N_eig = 12   # number of eigenvalues\n",
    "eigensolver.solve(N_eig)"
   ]
  },
  {
   "cell_type": "markdown",
   "metadata": {},
   "source": [
    "The solution is prepared in object *eigensolver* and we want extract it and save to *.xdmf* file. Therefore we create *XDMFFile()* with some additional parameters. `flush_output` with value true can allow inspection of results while process is still running. Parameter `functions_share_mesh` optimize saving process considering that all functions have the same mesh."
   ]
  },
  {
   "cell_type": "code",
   "execution_count": 9,
   "metadata": {},
   "outputs": [],
   "source": [
    "# --------------------\n",
    "# Post-process\n",
    "# --------------------\n",
    "# Set up file for exporting results\n",
    "file_results = fe.XDMFFile(\"MA.xdmf\")\n",
    "file_results.parameters[\"flush_output\"] = True\n",
    "file_results.parameters[\"functions_share_mesh\"] = True"
   ]
  },
  {
   "cell_type": "markdown",
   "metadata": {},
   "source": [
    "The last part of code calculate for each eigenvalue corresponding eigenfrequency and save eigenvector as fenics `Function`."
   ]
  },
  {
   "cell_type": "code",
   "execution_count": 10,
   "metadata": {},
   "outputs": [
    {
     "name": "stdout",
     "output_type": "stream",
     "text": [
      "Eigenfrequency:  0.00814 [Hz]\n",
      "Eigenfrequency:  0.00835 [Hz]\n",
      "Eigenfrequency:  0.00857 [Hz]\n",
      "Eigenfrequency:  0.01140 [Hz]\n",
      "Eigenfrequency:  0.01184 [Hz]\n",
      "Eigenfrequency:  0.01208 [Hz]\n",
      "Eigenfrequency: 35.16121 [Hz]\n",
      "Eigenfrequency: 50.83763 [Hz]\n",
      "Eigenfrequency: 59.78057 [Hz]\n",
      "Eigenfrequency: 89.80385 [Hz]\n",
      "Eigenfrequency: 90.36883 [Hz]\n",
      "Eigenfrequency: 153.76596 [Hz]\n"
     ]
    }
   ],
   "source": [
    "# Eigenfrequencies\n",
    "for i in range(0, N_eig):\n",
    "    # Get i-th eigenvalue and eigenvector\n",
    "    # r - real part of eigenvalue\n",
    "    # c - imaginary part of eigenvaue\n",
    "    # rx - real part of eigenvector\n",
    "    # cx - imaginary part of eigenvector\n",
    "    r, c, rx, cx = eigensolver.get_eigenpair(i)\n",
    "    \n",
    "    # Calculation of eigenfrequency from real part of eigenvalue\n",
    "    freq_3D = fe.sqrt(r)/2/fe.pi\n",
    "    print(\"Eigenfrequency: {0:8.5f} [Hz]\".format(freq_3D))\n",
    "    \n",
    "    # Initialize function and assign eigenvector\n",
    "    eigenmode = fe.Function(V, name=\"Eigenvector \" + str(i))\n",
    "    eigenmode.vector()[:] = rx\n",
    "    \n",
    "    # Write i-th eigenfunction to xdmf file\n",
    "    file_results.write(eigenmode, i)\n"
   ]
  },
  {
   "cell_type": "markdown",
   "metadata": {},
   "source": [
    "### Code"
   ]
  },
  {
   "cell_type": "code",
   "execution_count": 2,
   "metadata": {},
   "outputs": [
    {
     "name": "stdout",
     "output_type": "stream",
     "text": [
      "Solid FE:  0.00814 [Hz]\n",
      "Solid FE:  0.00835 [Hz]\n",
      "Solid FE:  0.00857 [Hz]\n",
      "Solid FE:  0.01140 [Hz]\n",
      "Solid FE:  0.01184 [Hz]\n",
      "Solid FE:  0.01208 [Hz]\n",
      "Solid FE: 35.16121 [Hz]\n",
      "Solid FE: 50.83763 [Hz]\n",
      "Solid FE: 59.78057 [Hz]\n",
      "Solid FE: 89.80385 [Hz]\n",
      "Solid FE: 90.36883 [Hz]\n",
      "Solid FE: 153.76596 [Hz]\n"
     ]
    }
   ],
   "source": [
    "import fenics as fe\n",
    "import matplotlib.pyplot as plt\n",
    "\n",
    "\n",
    "# --------------------\n",
    "# Functions and classes\n",
    "# --------------------\n",
    "def bottom(x, on_boundary):\n",
    "    return (on_boundary and fe.near(x[1], 0.0))\n",
    "\n",
    "\n",
    "# Strain function\n",
    "def epsilon(u):\n",
    "    return 0.5*(fe.nabla_grad(u) + fe.nabla_grad(u).T)\n",
    "\n",
    "\n",
    "# Stress function\n",
    "def sigma(u):\n",
    "    return lmbda*fe.div(u)*fe.Identity(3) + 2*mu*epsilon(u)\n",
    "\n",
    "\n",
    "# --------------------\n",
    "# Parameters\n",
    "# --------------------\n",
    "# Young modulus, poisson number and density\n",
    "E, nu = 70.0E9, 0.23\n",
    "rho = 2500.0\n",
    "\n",
    "# Lame's constants\n",
    "mu = E/2./(1+nu)\n",
    "lmbda = E*nu/(1+nu)/(1-2*nu)\n",
    "\n",
    "l_x, l_y, l_z = 1.0, 1.0, 0.01  # Domain dimensions\n",
    "n_x, n_y, n_z = 20, 20, 2  # Number of elements\n",
    "\n",
    "# --------------------\n",
    "# Geometry\n",
    "# --------------------\n",
    "mesh = fe.BoxMesh(fe.Point(0.0, 0.0, 0.0), fe.Point(l_x, l_y, l_z), n_x, n_y, n_z)\n",
    "\n",
    "# --------------------\n",
    "# Function spaces\n",
    "# --------------------\n",
    "V = fe.VectorFunctionSpace(mesh, \"CG\", 2)\n",
    "u_tr = fe.TrialFunction(V)\n",
    "u_test = fe.TestFunction(V)\n",
    "\n",
    "# --------------------\n",
    "# Forms & matrices\n",
    "# --------------------\n",
    "a_form = fe.inner(sigma(u_tr), epsilon(u_test))*fe.dx\n",
    "m_form = rho*fe.inner(u_tr, u_test)*fe.dx\n",
    "\n",
    "A = fe.PETScMatrix()\n",
    "M = fe.PETScMatrix()\n",
    "A = fe.assemble(a_form, tensor=A)\n",
    "M = fe.assemble(m_form, tensor=M)\n",
    "\n",
    "# --------------------\n",
    "# Eigen-solver\n",
    "# --------------------\n",
    "eigensolver = fe.SLEPcEigenSolver(A, M)\n",
    "eigensolver.parameters['problem_type'] = 'gen_hermitian'\n",
    "eigensolver.parameters[\"spectrum\"] = \"smallest real\"\n",
    "eigensolver.parameters['spectral_transform'] = 'shift-and-invert'\n",
    "eigensolver.parameters['spectral_shift'] = 100.0\n",
    "\n",
    "N_eig = 12   # number of eigenvalues\n",
    "eigensolver.solve(N_eig)\n",
    "\n",
    "# --------------------\n",
    "# Post-process\n",
    "# --------------------\n",
    "# Set up file for exporting results\n",
    "file_results = fe.XDMFFile(\"MA.xdmf\")\n",
    "file_results.parameters[\"flush_output\"] = True\n",
    "file_results.parameters[\"functions_share_mesh\"] = True\n",
    "\n",
    "# Eigenfrequencies\n",
    "for i in range(0, N_eig):\n",
    "    r, c, rx, cx = eigensolver.get_eigenpair(i)\n",
    "    freq_3D = fe.sqrt(r)/2/fe.pi\n",
    "    print(\"Solid FE: {0:8.5f} [Hz]\".format(freq_3D))\n",
    "    \n",
    "    # Initialize function and assign eigenvector (renormalize by stiffness matrix)\n",
    "    eigenmode = fe.Function(V, name=\"Eigenvector \"+str(i))\n",
    "    eigenmode.vector()[:] = rx\n",
    "\n",
    "    file_results.write(eigenmode, i)\n"
   ]
  },
  {
   "cell_type": "code",
   "execution_count": null,
   "metadata": {},
   "outputs": [],
   "source": []
  }
 ],
 "metadata": {
  "kernelspec": {
   "display_name": "Python 3",
   "language": "python",
   "name": "python3"
  },
  "language_info": {
   "codemirror_mode": {
    "name": "ipython",
    "version": 3
   },
   "file_extension": ".py",
   "mimetype": "text/x-python",
   "name": "python",
   "nbconvert_exporter": "python",
   "pygments_lexer": "ipython3",
   "version": "3.6.9"
  }
 },
 "nbformat": 4,
 "nbformat_minor": 2
}
